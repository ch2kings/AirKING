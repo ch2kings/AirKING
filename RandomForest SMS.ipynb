{
  "cells": [
    {
      "cell_type": "markdown",
      "metadata": {
        "id": "view-in-github",
        "colab_type": "text"
      },
      "source": [
        "<a href=\"https://colab.research.google.com/github/ch2kings/AirKING/blob/master/RandomForest%20SMS.ipynb\" target=\"_parent\"><img src=\"https://colab.research.google.com/assets/colab-badge.svg\" alt=\"Open In Colab\"/></a>"
      ]
    },
    {
      "cell_type": "code",
      "source": [
        "\n",
        "from statsmodels.tsa.arima.model import ARIMA\n",
        "from pmdarima import auto_arima\n",
        "data_series = [ 1048, 829, 823, 783, 827, 894, 842, 865, 886, 894, 831, 371, 589, 391, 279, 246, 298, 2761, 20907, 6866, 871, 945, 844, 3516, 6242, 844, 894, 542, 797, 832, 828, 847, 891, 915, 896, 814, 680, 417, 177, 0, 0, 1376, 6111, 18184, 3546, 911, 480, 711, 820, 814, 793, 783, 834, 833, 845, 943, 882, 936, 840, 747, 576, 393, 261, 180, 303, 2975, 12446, 6882, 896, 919, 820, 749, 779, 812, 677, 903, 849, 806, 526, 796, 807, 791, 833, 813, 821, 482, 379, 245, 124, 382, 1776, 13503, 5255, 1757, 1945, 1615, 1092, 822, 856, 843, 862, 899, 835, 821, 825, 821, 837, 551, 725, 649, 412, 283, 134, 384, 886, 11587, 5876, 1251, 1012, 841, 855, 898, 936, 903, 921, 953, 919, 903, 904, 790, 811, 686, 522, 280, 179, 123, 293, 3781, 9501, 1409, 1911, 1329, 1039, 952, 894, 989, 982, 839, 889, 953, 937, 961, 1195, 938, 943, 458, 576, 322, 426, 248, 411, 671, 823, 850, 1278, 1081, 860, 820, 16, ]\n",
        "\n",
        "auto_arima_model = auto_arima(data_series, start_p=1, start_q=1,\n",
        "                              test='adf',       # Use adf test to find optimal d\n",
        "                              max_p=5, max_q=5, # Maximum p and q\n",
        "                              m=1,              # Frequency of the series\n",
        "                              d=None,           # Let the model determine 'd'\n",
        "                              seasonal=False,   # No seasonality\n",
        "                              start_P=0,\n",
        "                              D=0,\n",
        "                              trace=True,\n",
        "                              error_action='ignore',\n",
        "                              suppress_warnings=True,\n",
        "                              stepwise=True)\n",
        "\n",
        "auto_arima_model.summary()\n"
      ],
      "metadata": {
        "colab": {
          "base_uri": "https://localhost:8080/",
          "height": 747
        },
        "id": "3YAJHHoFHlFV",
        "outputId": "2d8e9f1c-5c92-40df-fcd0-864615630981"
      },
      "execution_count": null,
      "outputs": [
        {
          "output_type": "stream",
          "name": "stdout",
          "text": [
            "Performing stepwise search to minimize aic\n",
            " ARIMA(1,0,1)(0,0,0)[0]             : AIC=3159.833, Time=0.08 sec\n",
            " ARIMA(0,0,0)(0,0,0)[0]             : AIC=3209.048, Time=0.01 sec\n",
            " ARIMA(1,0,0)(0,0,0)[0]             : AIC=3159.126, Time=0.02 sec\n",
            " ARIMA(0,0,1)(0,0,0)[0]             : AIC=3163.341, Time=0.01 sec\n",
            " ARIMA(2,0,0)(0,0,0)[0]             : AIC=3160.221, Time=0.02 sec\n",
            " ARIMA(2,0,1)(0,0,0)[0]             : AIC=3161.404, Time=0.05 sec\n",
            " ARIMA(1,0,0)(0,0,0)[0] intercept   : AIC=3144.460, Time=0.02 sec\n",
            " ARIMA(0,0,0)(0,0,0)[0] intercept   : AIC=3167.734, Time=0.01 sec\n",
            " ARIMA(2,0,0)(0,0,0)[0] intercept   : AIC=3140.681, Time=0.03 sec\n",
            " ARIMA(3,0,0)(0,0,0)[0] intercept   : AIC=3142.612, Time=0.03 sec\n",
            " ARIMA(2,0,1)(0,0,0)[0] intercept   : AIC=3142.732, Time=0.05 sec\n",
            " ARIMA(1,0,1)(0,0,0)[0] intercept   : AIC=3142.386, Time=0.03 sec\n",
            " ARIMA(3,0,1)(0,0,0)[0] intercept   : AIC=3144.631, Time=0.09 sec\n",
            "\n",
            "Best model:  ARIMA(2,0,0)(0,0,0)[0] intercept\n",
            "Total fit time: 0.475 seconds\n"
          ]
        },
        {
          "output_type": "execute_result",
          "data": {
            "text/plain": [
              "<class 'statsmodels.iolib.summary.Summary'>\n",
              "\"\"\"\n",
              "                               SARIMAX Results                                \n",
              "==============================================================================\n",
              "Dep. Variable:                      y   No. Observations:                  169\n",
              "Model:               SARIMAX(2, 0, 0)   Log Likelihood               -1566.340\n",
              "Date:                Mon, 19 Feb 2024   AIC                           3140.681\n",
              "Time:                        11:28:03   BIC                           3153.201\n",
              "Sample:                             0   HQIC                          3145.762\n",
              "                                - 169                                         \n",
              "Covariance Type:                  opg                                         \n",
              "==============================================================================\n",
              "                 coef    std err          z      P>|z|      [0.025      0.975]\n",
              "------------------------------------------------------------------------------\n",
              "intercept   1131.2982    610.946      1.852      0.064     -66.135    2328.731\n",
              "ar.L1          0.4399      0.075      5.854      0.000       0.293       0.587\n",
              "ar.L2         -0.1831      0.174     -1.054      0.292      -0.524       0.158\n",
              "sigma2      6.641e+06   5.15e+05     12.903      0.000    5.63e+06    7.65e+06\n",
              "===================================================================================\n",
              "Ljung-Box (L1) (Q):                   0.00   Jarque-Bera (JB):              5265.23\n",
              "Prob(Q):                              0.99   Prob(JB):                         0.00\n",
              "Heteroskedasticity (H):               0.29   Skew:                             4.75\n",
              "Prob(H) (two-sided):                  0.00   Kurtosis:                        28.64\n",
              "===================================================================================\n",
              "\n",
              "Warnings:\n",
              "[1] Covariance matrix calculated using the outer product of gradients (complex-step).\n",
              "\"\"\""
            ],
            "text/html": [
              "<table class=\"simpletable\">\n",
              "<caption>SARIMAX Results</caption>\n",
              "<tr>\n",
              "  <th>Dep. Variable:</th>           <td>y</td>        <th>  No. Observations:  </th>    <td>169</td>   \n",
              "</tr>\n",
              "<tr>\n",
              "  <th>Model:</th>           <td>SARIMAX(2, 0, 0)</td> <th>  Log Likelihood     </th> <td>-1566.340</td>\n",
              "</tr>\n",
              "<tr>\n",
              "  <th>Date:</th>            <td>Mon, 19 Feb 2024</td> <th>  AIC                </th> <td>3140.681</td> \n",
              "</tr>\n",
              "<tr>\n",
              "  <th>Time:</th>                <td>11:28:03</td>     <th>  BIC                </th> <td>3153.201</td> \n",
              "</tr>\n",
              "<tr>\n",
              "  <th>Sample:</th>                  <td>0</td>        <th>  HQIC               </th> <td>3145.762</td> \n",
              "</tr>\n",
              "<tr>\n",
              "  <th></th>                      <td> - 169</td>      <th>                     </th>     <td> </td>    \n",
              "</tr>\n",
              "<tr>\n",
              "  <th>Covariance Type:</th>        <td>opg</td>       <th>                     </th>     <td> </td>    \n",
              "</tr>\n",
              "</table>\n",
              "<table class=\"simpletable\">\n",
              "<tr>\n",
              "      <td></td>         <th>coef</th>     <th>std err</th>      <th>z</th>      <th>P>|z|</th>  <th>[0.025</th>    <th>0.975]</th>  \n",
              "</tr>\n",
              "<tr>\n",
              "  <th>intercept</th> <td> 1131.2982</td> <td>  610.946</td> <td>    1.852</td> <td> 0.064</td> <td>  -66.135</td> <td> 2328.731</td>\n",
              "</tr>\n",
              "<tr>\n",
              "  <th>ar.L1</th>     <td>    0.4399</td> <td>    0.075</td> <td>    5.854</td> <td> 0.000</td> <td>    0.293</td> <td>    0.587</td>\n",
              "</tr>\n",
              "<tr>\n",
              "  <th>ar.L2</th>     <td>   -0.1831</td> <td>    0.174</td> <td>   -1.054</td> <td> 0.292</td> <td>   -0.524</td> <td>    0.158</td>\n",
              "</tr>\n",
              "<tr>\n",
              "  <th>sigma2</th>    <td> 6.641e+06</td> <td> 5.15e+05</td> <td>   12.903</td> <td> 0.000</td> <td> 5.63e+06</td> <td> 7.65e+06</td>\n",
              "</tr>\n",
              "</table>\n",
              "<table class=\"simpletable\">\n",
              "<tr>\n",
              "  <th>Ljung-Box (L1) (Q):</th>     <td>0.00</td> <th>  Jarque-Bera (JB):  </th> <td>5265.23</td>\n",
              "</tr>\n",
              "<tr>\n",
              "  <th>Prob(Q):</th>                <td>0.99</td> <th>  Prob(JB):          </th>  <td>0.00</td>  \n",
              "</tr>\n",
              "<tr>\n",
              "  <th>Heteroskedasticity (H):</th> <td>0.29</td> <th>  Skew:              </th>  <td>4.75</td>  \n",
              "</tr>\n",
              "<tr>\n",
              "  <th>Prob(H) (two-sided):</th>    <td>0.00</td> <th>  Kurtosis:          </th>  <td>28.64</td> \n",
              "</tr>\n",
              "</table><br/><br/>Warnings:<br/>[1] Covariance matrix calculated using the outer product of gradients (complex-step)."
            ],
            "text/latex": "\\begin{center}\n\\begin{tabular}{lclc}\n\\toprule\n\\textbf{Dep. Variable:}          &        y         & \\textbf{  No. Observations:  } &    169      \\\\\n\\textbf{Model:}                  & SARIMAX(2, 0, 0) & \\textbf{  Log Likelihood     } & -1566.340   \\\\\n\\textbf{Date:}                   & Mon, 19 Feb 2024 & \\textbf{  AIC                } &  3140.681   \\\\\n\\textbf{Time:}                   &     11:28:03     & \\textbf{  BIC                } &  3153.201   \\\\\n\\textbf{Sample:}                 &        0         & \\textbf{  HQIC               } &  3145.762   \\\\\n\\textbf{}                        &       - 169      & \\textbf{                     } &             \\\\\n\\textbf{Covariance Type:}        &       opg        & \\textbf{                     } &             \\\\\n\\bottomrule\n\\end{tabular}\n\\begin{tabular}{lcccccc}\n                   & \\textbf{coef} & \\textbf{std err} & \\textbf{z} & \\textbf{P$> |$z$|$} & \\textbf{[0.025} & \\textbf{0.975]}  \\\\\n\\midrule\n\\textbf{intercept} &    1131.2982  &      610.946     &     1.852  &         0.064        &      -66.135    &     2328.731     \\\\\n\\textbf{ar.L1}     &       0.4399  &        0.075     &     5.854  &         0.000        &        0.293    &        0.587     \\\\\n\\textbf{ar.L2}     &      -0.1831  &        0.174     &    -1.054  &         0.292        &       -0.524    &        0.158     \\\\\n\\textbf{sigma2}    &    6.641e+06  &     5.15e+05     &    12.903  &         0.000        &     5.63e+06    &     7.65e+06     \\\\\n\\bottomrule\n\\end{tabular}\n\\begin{tabular}{lclc}\n\\textbf{Ljung-Box (L1) (Q):}     & 0.00 & \\textbf{  Jarque-Bera (JB):  } & 5265.23  \\\\\n\\textbf{Prob(Q):}                & 0.99 & \\textbf{  Prob(JB):          } &   0.00   \\\\\n\\textbf{Heteroskedasticity (H):} & 0.29 & \\textbf{  Skew:              } &   4.75   \\\\\n\\textbf{Prob(H) (two-sided):}    & 0.00 & \\textbf{  Kurtosis:          } &  28.64   \\\\\n\\bottomrule\n\\end{tabular}\n%\\caption{SARIMAX Results}\n\\end{center}\n\nWarnings: \\newline\n [1] Covariance matrix calculated using the outer product of gradients (complex-step)."
          },
          "metadata": {},
          "execution_count": 4
        }
      ]
    },
    {
      "cell_type": "code",
      "source": [
        "pip install statsmodels"
      ],
      "metadata": {
        "colab": {
          "base_uri": "https://localhost:8080/"
        },
        "id": "QpMFfkvTHr2A",
        "outputId": "24c9d5a0-1f6e-49ad-98e0-c7e1b699f040"
      },
      "execution_count": null,
      "outputs": [
        {
          "output_type": "stream",
          "name": "stdout",
          "text": [
            "Requirement already satisfied: statsmodels in /usr/local/lib/python3.10/dist-packages (0.14.1)\n",
            "Requirement already satisfied: numpy<2,>=1.18 in /usr/local/lib/python3.10/dist-packages (from statsmodels) (1.25.2)\n",
            "Requirement already satisfied: scipy!=1.9.2,>=1.4 in /usr/local/lib/python3.10/dist-packages (from statsmodels) (1.11.4)\n",
            "Requirement already satisfied: pandas!=2.1.0,>=1.0 in /usr/local/lib/python3.10/dist-packages (from statsmodels) (1.5.3)\n",
            "Requirement already satisfied: patsy>=0.5.4 in /usr/local/lib/python3.10/dist-packages (from statsmodels) (0.5.6)\n",
            "Requirement already satisfied: packaging>=21.3 in /usr/local/lib/python3.10/dist-packages (from statsmodels) (23.2)\n",
            "Requirement already satisfied: python-dateutil>=2.8.1 in /usr/local/lib/python3.10/dist-packages (from pandas!=2.1.0,>=1.0->statsmodels) (2.8.2)\n",
            "Requirement already satisfied: pytz>=2020.1 in /usr/local/lib/python3.10/dist-packages (from pandas!=2.1.0,>=1.0->statsmodels) (2023.4)\n",
            "Requirement already satisfied: six in /usr/local/lib/python3.10/dist-packages (from patsy>=0.5.4->statsmodels) (1.16.0)\n"
          ]
        }
      ]
    },
    {
      "cell_type": "code",
      "source": [
        "pip install pmdarima"
      ],
      "metadata": {
        "colab": {
          "base_uri": "https://localhost:8080/"
        },
        "id": "lkIZcCMkH0pG",
        "outputId": "7dac126b-971e-4c2d-83cc-c4453f5c67b3"
      },
      "execution_count": null,
      "outputs": [
        {
          "output_type": "stream",
          "name": "stdout",
          "text": [
            "Collecting pmdarima\n",
            "  Downloading pmdarima-2.0.4-cp310-cp310-manylinux_2_17_x86_64.manylinux2014_x86_64.manylinux_2_28_x86_64.whl (2.1 MB)\n",
            "\u001b[2K     \u001b[90m━━━━━━━━━━━━━━━━━━━━━━━━━━━━━━━━━━━━━━━━\u001b[0m \u001b[32m2.1/2.1 MB\u001b[0m \u001b[31m9.4 MB/s\u001b[0m eta \u001b[36m0:00:00\u001b[0m\n",
            "\u001b[?25hRequirement already satisfied: joblib>=0.11 in /usr/local/lib/python3.10/dist-packages (from pmdarima) (1.3.2)\n",
            "Requirement already satisfied: Cython!=0.29.18,!=0.29.31,>=0.29 in /usr/local/lib/python3.10/dist-packages (from pmdarima) (3.0.8)\n",
            "Requirement already satisfied: numpy>=1.21.2 in /usr/local/lib/python3.10/dist-packages (from pmdarima) (1.25.2)\n",
            "Requirement already satisfied: pandas>=0.19 in /usr/local/lib/python3.10/dist-packages (from pmdarima) (1.5.3)\n",
            "Requirement already satisfied: scikit-learn>=0.22 in /usr/local/lib/python3.10/dist-packages (from pmdarima) (1.2.2)\n",
            "Requirement already satisfied: scipy>=1.3.2 in /usr/local/lib/python3.10/dist-packages (from pmdarima) (1.11.4)\n",
            "Requirement already satisfied: statsmodels>=0.13.2 in /usr/local/lib/python3.10/dist-packages (from pmdarima) (0.14.1)\n",
            "Requirement already satisfied: urllib3 in /usr/local/lib/python3.10/dist-packages (from pmdarima) (2.0.7)\n",
            "Requirement already satisfied: setuptools!=50.0.0,>=38.6.0 in /usr/local/lib/python3.10/dist-packages (from pmdarima) (67.7.2)\n",
            "Requirement already satisfied: packaging>=17.1 in /usr/local/lib/python3.10/dist-packages (from pmdarima) (23.2)\n",
            "Requirement already satisfied: python-dateutil>=2.8.1 in /usr/local/lib/python3.10/dist-packages (from pandas>=0.19->pmdarima) (2.8.2)\n",
            "Requirement already satisfied: pytz>=2020.1 in /usr/local/lib/python3.10/dist-packages (from pandas>=0.19->pmdarima) (2023.4)\n",
            "Requirement already satisfied: threadpoolctl>=2.0.0 in /usr/local/lib/python3.10/dist-packages (from scikit-learn>=0.22->pmdarima) (3.2.0)\n",
            "Requirement already satisfied: patsy>=0.5.4 in /usr/local/lib/python3.10/dist-packages (from statsmodels>=0.13.2->pmdarima) (0.5.6)\n",
            "Requirement already satisfied: six in /usr/local/lib/python3.10/dist-packages (from patsy>=0.5.4->statsmodels>=0.13.2->pmdarima) (1.16.0)\n",
            "Installing collected packages: pmdarima\n",
            "Successfully installed pmdarima-2.0.4\n"
          ]
        }
      ]
    },
    {
      "cell_type": "code",
      "source": [
        "from statsmodels.tsa.statespace.sarimax import SARIMAX\n",
        "# Use the optimal parameters found by auto_arima\n",
        "model = ARIMA(data_series, order=auto_arima_model.order)\n",
        "model = SARIMAX(data_series, order=auto_arima_model.order, seasonal_order=auto_arima_model.seasonal_order)\n",
        "model_fit = model.fit()\n",
        "\n",
        "# Summary of the model\n",
        "print(model_fit.summary())\n"
      ],
      "metadata": {
        "colab": {
          "base_uri": "https://localhost:8080/"
        },
        "id": "eHK2KGDJH_Um",
        "outputId": "2d0303f4-7c47-4a4e-803b-2eae8ca52152"
      },
      "execution_count": null,
      "outputs": [
        {
          "output_type": "stream",
          "name": "stdout",
          "text": [
            "                               SARIMAX Results                                \n",
            "==============================================================================\n",
            "Dep. Variable:                      y   No. Observations:                  169\n",
            "Model:               SARIMAX(2, 0, 0)   Log Likelihood               -1577.110\n",
            "Date:                Mon, 19 Feb 2024   AIC                           3160.221\n",
            "Time:                        11:28:36   BIC                           3169.611\n",
            "Sample:                             0   HQIC                          3164.031\n",
            "                                - 169                                         \n",
            "Covariance Type:                  opg                                         \n",
            "==============================================================================\n",
            "                 coef    std err          z      P>|z|      [0.025      0.975]\n",
            "------------------------------------------------------------------------------\n",
            "ar.L1          0.5505      0.064      8.627      0.000       0.425       0.676\n",
            "ar.L2         -0.0730      0.166     -0.440      0.660      -0.398       0.252\n",
            "sigma2      7.538e+06   2.68e+05     28.154      0.000    7.01e+06    8.06e+06\n",
            "===================================================================================\n",
            "Ljung-Box (L1) (Q):                   1.13   Jarque-Bera (JB):              4324.84\n",
            "Prob(Q):                              0.29   Prob(JB):                         0.00\n",
            "Heteroskedasticity (H):               0.30   Skew:                             4.26\n",
            "Prob(H) (two-sided):                  0.00   Kurtosis:                        26.27\n",
            "===================================================================================\n",
            "\n",
            "Warnings:\n",
            "[1] Covariance matrix calculated using the outer product of gradients (complex-step).\n"
          ]
        }
      ]
    },
    {
      "cell_type": "code",
      "source": [
        "import numpy as np\n",
        "import pandas as pd\n",
        "import matplotlib.pyplot as plt\n",
        "from statsmodels.tsa.stattools import adfuller\n",
        "from pmdarima import auto_arima\n"
      ],
      "metadata": {
        "id": "q12Np-a0IGrf"
      },
      "execution_count": null,
      "outputs": []
    },
    {
      "cell_type": "code",
      "source": [
        "plt.figure(figsize=(10, 6))\n",
        "plt.plot(data_series, label='Original')\n",
        "plt.plot(model_fit.fittedvalues, color='red', label='Fitted')\n",
        "# Add code to highlight anomalies if applicable\n",
        "plt.legend()\n",
        "plt.show()"
      ],
      "metadata": {
        "colab": {
          "base_uri": "https://localhost:8080/",
          "height": 522
        },
        "id": "ICd4ciMNIHzV",
        "outputId": "aee7c1bb-6952-4a76-f076-5c3d6e761182"
      },
      "execution_count": null,
      "outputs": [
        {
          "output_type": "display_data",
          "data": {
            "text/plain": [
              "<Figure size 1000x600 with 1 Axes>"
            ],
            "image/png": "[encoded data removed]"
          },
          "metadata": {}
        }
      ]
    },
    {
      "cell_type": "code",
      "source": [
        "!pip install nltk\n"
      ],
      "metadata": {
        "colab": {
          "base_uri": "https://localhost:8080/"
        },
        "id": "kKeO4OmLIMH0",
        "outputId": "1049b33d-d20b-415f-e498-c2913e0f4a7a"
      },
      "execution_count": null,
      "outputs": [
        {
          "output_type": "stream",
          "name": "stdout",
          "text": [
            "Requirement already satisfied: nltk in /usr/local/lib/python3.10/dist-packages (3.8.1)\n",
            "Requirement already satisfied: click in /usr/local/lib/python3.10/dist-packages (from nltk) (8.1.7)\n",
            "Requirement already satisfied: joblib in /usr/local/lib/python3.10/dist-packages (from nltk) (1.3.2)\n",
            "Requirement already satisfied: regex>=2021.8.3 in /usr/local/lib/python3.10/dist-packages (from nltk) (2023.12.25)\n",
            "Requirement already satisfied: tqdm in /usr/local/lib/python3.10/dist-packages (from nltk) (4.66.2)\n"
          ]
        }
      ]
    },
    {
      "cell_type": "code",
      "source": [
        "import nltk\n",
        "from nltk.corpus import sentiwordnet as swn\n",
        "from nltk.corpus import wordnet as wn\n",
        "from nltk.stem import WordNetLemmatizer\n",
        "from nltk import pos_tag\n",
        "from nltk.tokenize import word_tokenize\n",
        "\n",
        "nltk.download('sentiwordnet')\n",
        "nltk.download('wordnet')\n",
        "nltk.download('averaged_perceptron_tagger')\n",
        "nltk.download('punkt')\n"
      ],
      "metadata": {
        "colab": {
          "base_uri": "https://localhost:8080/"
        },
        "id": "duHCjgxNn4OC",
        "outputId": "9578a146-b565-4655-f7c9-9b8b5f412a22"
      },
      "execution_count": null,
      "outputs": [
        {
          "output_type": "stream",
          "name": "stderr",
          "text": [
            "[nltk_data] Downloading package sentiwordnet to /root/nltk_data...\n",
            "[nltk_data]   Unzipping corpora/sentiwordnet.zip.\n",
            "[nltk_data] Downloading package wordnet to /root/nltk_data...\n",
            "[nltk_data] Downloading package averaged_perceptron_tagger to\n",
            "[nltk_data]     /root/nltk_data...\n",
            "[nltk_data]   Unzipping taggers/averaged_perceptron_tagger.zip.\n",
            "[nltk_data] Downloading package punkt to /root/nltk_data...\n",
            "[nltk_data]   Unzipping tokenizers/punkt.zip.\n"
          ]
        },
        {
          "output_type": "execute_result",
          "data": {
            "text/plain": [
              "True"
            ]
          },
          "metadata": {},
          "execution_count": 2
        }
      ]
    },
    {
      "cell_type": "code",
      "source": [
        "def get_wordnet_pos(tag):\n",
        "    \"\"\"Convert the part-of-speech naming scheme\n",
        "       from the nltk pos_tag to the wordnet scheme.\"\"\"\n",
        "    if tag.startswith('J'):\n",
        "        return wn.ADJ\n",
        "    elif tag.startswith('V'):\n",
        "        return wn.VERB\n",
        "    elif tag.startswith('N'):\n",
        "        return wn.NOUN\n",
        "    elif tag.startswith('R'):\n",
        "        return wn.ADV\n",
        "    else:\n",
        "        return None\n",
        "\n",
        "lemmatizer = WordNetLemmatizer()\n",
        "\n",
        "def preprocess(text):\n",
        "    # Tokenize and POS tag the text\n",
        "    tokens = word_tokenize(text)\n",
        "    pos_tags = pos_tag(tokens)\n",
        "\n",
        "    # Lemmatize and convert POS tags\n",
        "    lemmatized_tokens = []\n",
        "    wordnet_tags = []\n",
        "    for token, tag in pos_tags:\n",
        "        wordnet_tag = get_wordnet_pos(tag)\n",
        "        if wordnet_tag is not None:\n",
        "            lemmatized_tokens.append(lemmatizer.lemmatize(token, pos=wordnet_tag))\n",
        "            wordnet_tags.append(wordnet_tag)\n",
        "    return lemmatized_tokens, wordnet_tags\n"
      ],
      "metadata": {
        "id": "f2-uWGBcoAZL"
      },
      "execution_count": null,
      "outputs": []
    },
    {
      "cell_type": "code",
      "source": [
        "def analyze_sentiment_sentiwordnet(lemmatized_tokens, wordnet_tags):\n",
        "    pos_score = neg_score = obj_score = 0\n",
        "\n",
        "    for token, tag in zip(lemmatized_tokens, wordnet_tags):\n",
        "        synsets = wn.synsets(token, pos=tag)\n",
        "        if not synsets:\n",
        "            continue\n",
        "\n",
        "        # Take the first sense, the most common\n",
        "        synset = synsets[0]\n",
        "        senti_synset = swn.senti_synset(synset.name())\n",
        "        pos_score += senti_synset.pos_score()\n",
        "        neg_score += senti_synset.neg_score()\n",
        "        obj_score += senti_synset.obj_score()\n",
        "\n",
        "    return pos_score, neg_score, obj_score\n",
        "\n",
        "# Example usage\n",
        "text = \"This is a great movie, but the ending is quite sad.\"\n",
        "lemmatized_tokens, wordnet_tags = preprocess(text)\n",
        "pos_score, neg_score, obj_score = analyze_sentiment_sentiwordnet(lemmatized_tokens, wordnet_tags)\n",
        "\n",
        "print(f\"Positive score: {pos_score}\")\n",
        "print(f\"Negative score: {neg_score}\")\n",
        "print(f\"Objective score: {obj_score}\")\n"
      ],
      "metadata": {
        "colab": {
          "base_uri": "https://localhost:8080/"
        },
        "id": "U0RlBZ8_oCxk",
        "outputId": "f49e013e-2f98-4684-a515-400a7ca70b89"
      },
      "execution_count": null,
      "outputs": [
        {
          "output_type": "stream",
          "name": "stdout",
          "text": [
            "Positive score: 0.625\n",
            "Negative score: 1.625\n",
            "Objective score: 4.75\n"
          ]
        }
      ]
    },
    {
      "cell_type": "markdown",
      "source": [
        "**Random Forest**"
      ],
      "metadata": {
        "id": "0It6ijhK2Fz7"
      }
    },
    {
      "cell_type": "code",
      "source": [
        "from sklearn.feature_extraction.text import TfidfVectorizer\n",
        "from sklearn.model_selection import train_test_split\n",
        "from sklearn.preprocessing import LabelEncoder\n",
        "\n",
        "import pandas as pd\n",
        "\n",
        "# Specify the path to your Excel file\n",
        "file_path = 'SPAM-text-message.xlsx'\n",
        "\n",
        "# Use pandas to read the Excel file\n",
        "data = pd.read_excel(file_path)\n",
        "\n",
        "# Assuming `data` is your DataFrame\n",
        "# Ensure all messages are strings\n",
        "data['Message'] = data['Message'].astype(str)\n",
        "tfidf_vectorizer = TfidfVectorizer(max_features=1000)\n",
        "X = tfidf_vectorizer.fit_transform(data['Message'])\n",
        "\n",
        "label_encoder = LabelEncoder()\n",
        "y = label_encoder.fit_transform(data['Category'])\n",
        "\n",
        "X_train, X_test, y_train, y_test = train_test_split(X, y, test_size=0.2, random_state=42)\n"
      ],
      "metadata": {
        "id": "aenElYSf2E-T"
      },
      "execution_count": null,
      "outputs": []
    },
    {
      "cell_type": "code",
      "source": [
        "from imblearn.over_sampling import SMOTE\n",
        "\n",
        "smote = SMOTE(random_state=42)\n",
        "X_train_resampled, y_train_resampled = smote.fit_resample(X_train, y_train)\n"
      ],
      "metadata": {
        "id": "XY5Bj19y2Zaf"
      },
      "execution_count": null,
      "outputs": []
    },
    {
      "cell_type": "code",
      "source": [
        "from sklearn.ensemble import RandomForestClassifier\n",
        "from sklearn.model_selection import GridSearchCV\n",
        "\n",
        "# Define the parameter grid\n",
        "#param_grid = {\n",
        "#    'n_estimators': [50, 100, 200],  # Number of trees in the forest\n",
        "#    'max_depth': [10, 20, None],  # Maximum depth of the tree\n",
        "#    'min_samples_split': [2, 5],  # Minimum number of samples required to split an internal node\n",
        "#    'min_samples_leaf': [1, 2],  # Minimum number of samples required to be at a leaf node\n",
        "#}\n",
        "param_grid = {\n",
        "    'n_estimators': [50, 100, 200, 300],\n",
        "    'max_depth': [10, 20, 30, None],\n",
        "    'min_samples_split': [2, 5, 10],\n",
        "    'min_samples_leaf': [1, 2, 4],\n",
        "    'max_features': ['auto', 'sqrt'],\n",
        "    'bootstrap': [True, False]\n",
        "}\n",
        "param_grid = {\n",
        "    'n_estimators': [50, 100, 200, 300],\n",
        "    'max_depth': [None],\n",
        "    'min_samples_split': [2, 5, 10],\n",
        "    'min_samples_leaf': [1, 2, 4],\n",
        "    'max_features': ['auto', 'sqrt'],\n",
        "    'bootstrap': [True, False]\n",
        "}\n",
        "# Initialize the classifier\n",
        "rf = RandomForestClassifier(random_state=42)\n",
        "\n",
        "# Initialize the grid search\n",
        "grid_search = GridSearchCV(estimator=rf, param_grid=param_grid, cv=3, scoring='accuracy', n_jobs=-1, verbose=2)\n",
        "\n",
        "# Fit the grid search to the data\n",
        "grid_search.fit(X_train_resampled, y_train_resampled)\n"
      ],
      "metadata": {
        "colab": {
          "base_uri": "https://localhost:8080/",
          "height": 340
        },
        "id": "fW31xoND22uL",
        "outputId": "a2058cf1-7964-4b27-facb-8144c43879b7"
      },
      "execution_count": null,
      "outputs": [
        {
          "output_type": "stream",
          "name": "stdout",
          "text": [
            "Fitting 3 folds for each of 144 candidates, totalling 432 fits\n"
          ]
        },
        {
          "output_type": "stream",
          "name": "stderr",
          "text": [
            "/usr/local/lib/python3.10/dist-packages/sklearn/ensemble/_forest.py:424: FutureWarning: `max_features='auto'` has been deprecated in 1.1 and will be removed in 1.3. To keep the past behaviour, explicitly set `max_features='sqrt'` or remove this parameter as it is also the default value for RandomForestClassifiers and ExtraTreesClassifiers.\n",
            "  warn(\n"
          ]
        },
        {
          "output_type": "execute_result",
          "data": {
            "text/plain": [
              "GridSearchCV(cv=3, estimator=RandomForestClassifier(random_state=42), n_jobs=-1,\n",
              "             param_grid={'bootstrap': [True, False], 'max_depth': [None],\n",
              "                         'max_features': ['auto', 'sqrt'],\n",
              "                         'min_samples_leaf': [1, 2, 4],\n",
              "                         'min_samples_split': [2, 5, 10],\n",
              "                         'n_estimators': [50, 100, 200, 300]},\n",
              "             scoring='accuracy', verbose=2)"
            ],
            "text/html": [
              "<style>#sk-container-id-1 {color: black;background-color: white;}#sk-container-id-1 pre{padding: 0;}#sk-container-id-1 div.sk-toggleable {background-color: white;}#sk-container-id-1 label.sk-toggleable__label {cursor: pointer;display: block;width: 100%;margin-bottom: 0;padding: 0.3em;box-sizing: border-box;text-align: center;}#sk-container-id-1 label.sk-toggleable__label-arrow:before {content: \"▸\";float: left;margin-right: 0.25em;color: #696969;}#sk-container-id-1 label.sk-toggleable__label-arrow:hover:before {color: black;}#sk-container-id-1 div.sk-estimator:hover label.sk-toggleable__label-arrow:before {color: black;}#sk-container-id-1 div.sk-toggleable__content {max-height: 0;max-width: 0;overflow: hidden;text-align: left;background-color: #f0f8ff;}#sk-container-id-1 div.sk-toggleable__content pre {margin: 0.2em;color: black;border-radius: 0.25em;background-color: #f0f8ff;}#sk-container-id-1 input.sk-toggleable__control:checked~div.sk-toggleable__content {max-height: 200px;max-width: 100%;overflow: auto;}#sk-container-id-1 input.sk-toggleable__control:checked~label.sk-toggleable__label-arrow:before {content: \"▾\";}#sk-container-id-1 div.sk-estimator input.sk-toggleable__control:checked~label.sk-toggleable__label {background-color: #d4ebff;}#sk-container-id-1 div.sk-label input.sk-toggleable__control:checked~label.sk-toggleable__label {background-color: #d4ebff;}#sk-container-id-1 input.sk-hidden--visually {border: 0;clip: rect(1px 1px 1px 1px);clip: rect(1px, 1px, 1px, 1px);height: 1px;margin: -1px;overflow: hidden;padding: 0;position: absolute;width: 1px;}#sk-container-id-1 div.sk-estimator {font-family: monospace;background-color: #f0f8ff;border: 1px dotted black;border-radius: 0.25em;box-sizing: border-box;margin-bottom: 0.5em;}#sk-container-id-1 div.sk-estimator:hover {background-color: #d4ebff;}#sk-container-id-1 div.sk-parallel-item::after {content: \"\";width: 100%;border-bottom: 1px solid gray;flex-grow: 1;}#sk-container-id-1 div.sk-label:hover label.sk-toggleable__label {background-color: #d4ebff;}#sk-container-id-1 div.sk-serial::before {content: \"\";position: absolute;border-left: 1px solid gray;box-sizing: border-box;top: 0;bottom: 0;left: 50%;z-index: 0;}#sk-container-id-1 div.sk-serial {display: flex;flex-direction: column;align-items: center;background-color: white;padding-right: 0.2em;padding-left: 0.2em;position: relative;}#sk-container-id-1 div.sk-item {position: relative;z-index: 1;}#sk-container-id-1 div.sk-parallel {display: flex;align-items: stretch;justify-content: center;background-color: white;position: relative;}#sk-container-id-1 div.sk-item::before, #sk-container-id-1 div.sk-parallel-item::before {content: \"\";position: absolute;border-left: 1px solid gray;box-sizing: border-box;top: 0;bottom: 0;left: 50%;z-index: -1;}#sk-container-id-1 div.sk-parallel-item {display: flex;flex-direction: column;z-index: 1;position: relative;background-color: white;}#sk-container-id-1 div.sk-parallel-item:first-child::after {align-self: flex-end;width: 50%;}#sk-container-id-1 div.sk-parallel-item:last-child::after {align-self: flex-start;width: 50%;}#sk-container-id-1 div.sk-parallel-item:only-child::after {width: 0;}#sk-container-id-1 div.sk-dashed-wrapped {border: 1px dashed gray;margin: 0 0.4em 0.5em 0.4em;box-sizing: border-box;padding-bottom: 0.4em;background-color: white;}#sk-container-id-1 div.sk-label label {font-family: monospace;font-weight: bold;display: inline-block;line-height: 1.2em;}#sk-container-id-1 div.sk-label-container {text-align: center;}#sk-container-id-1 div.sk-container {/* jupyter's `normalize.less` sets `[hidden] { display: none; }` but bootstrap.min.css set `[hidden] { display: none !important; }` so we also need the `!important` here to be able to override the default hidden behavior on the sphinx rendered scikit-learn.org. See: https://github.com/scikit-learn/scikit-learn/issues/21755 */display: inline-block !important;position: relative;}#sk-container-id-1 div.sk-text-repr-fallback {display: none;}</style><div id=\"sk-container-id-1\" class=\"sk-top-container\"><div class=\"sk-text-repr-fallback\"><pre>GridSearchCV(cv=3, estimator=RandomForestClassifier(random_state=42), n_jobs=-1,\n",
              "             param_grid={&#x27;bootstrap&#x27;: [True, False], &#x27;max_depth&#x27;: [None],\n",
              "                         &#x27;max_features&#x27;: [&#x27;auto&#x27;, &#x27;sqrt&#x27;],\n",
              "                         &#x27;min_samples_leaf&#x27;: [1, 2, 4],\n",
              "                         &#x27;min_samples_split&#x27;: [2, 5, 10],\n",
              "                         &#x27;n_estimators&#x27;: [50, 100, 200, 300]},\n",
              "             scoring=&#x27;accuracy&#x27;, verbose=2)</pre><b>In a Jupyter environment, please rerun this cell to show the HTML representation or trust the notebook. <br />On GitHub, the HTML representation is unable to render, please try loading this page with nbviewer.org.</b></div><div class=\"sk-container\" hidden><div class=\"sk-item sk-dashed-wrapped\"><div class=\"sk-label-container\"><div class=\"sk-label sk-toggleable\"><input class=\"sk-toggleable__control sk-hidden--visually\" id=\"sk-estimator-id-1\" type=\"checkbox\" ><label for=\"sk-estimator-id-1\" class=\"sk-toggleable__label sk-toggleable__label-arrow\">GridSearchCV</label><div class=\"sk-toggleable__content\"><pre>GridSearchCV(cv=3, estimator=RandomForestClassifier(random_state=42), n_jobs=-1,\n",
              "             param_grid={&#x27;bootstrap&#x27;: [True, False], &#x27;max_depth&#x27;: [None],\n",
              "                         &#x27;max_features&#x27;: [&#x27;auto&#x27;, &#x27;sqrt&#x27;],\n",
              "                         &#x27;min_samples_leaf&#x27;: [1, 2, 4],\n",
              "                         &#x27;min_samples_split&#x27;: [2, 5, 10],\n",
              "                         &#x27;n_estimators&#x27;: [50, 100, 200, 300]},\n",
              "             scoring=&#x27;accuracy&#x27;, verbose=2)</pre></div></div></div><div class=\"sk-parallel\"><div class=\"sk-parallel-item\"><div class=\"sk-item\"><div class=\"sk-label-container\"><div class=\"sk-label sk-toggleable\"><input class=\"sk-toggleable__control sk-hidden--visually\" id=\"sk-estimator-id-2\" type=\"checkbox\" ><label for=\"sk-estimator-id-2\" class=\"sk-toggleable__label sk-toggleable__label-arrow\">estimator: RandomForestClassifier</label><div class=\"sk-toggleable__content\"><pre>RandomForestClassifier(random_state=42)</pre></div></div></div><div class=\"sk-serial\"><div class=\"sk-item\"><div class=\"sk-estimator sk-toggleable\"><input class=\"sk-toggleable__control sk-hidden--visually\" id=\"sk-estimator-id-3\" type=\"checkbox\" ><label for=\"sk-estimator-id-3\" class=\"sk-toggleable__label sk-toggleable__label-arrow\">RandomForestClassifier</label><div class=\"sk-toggleable__content\"><pre>RandomForestClassifier(random_state=42)</pre></div></div></div></div></div></div></div></div></div></div>"
            ]
          },
          "metadata": {},
          "execution_count": 3
        }
      ]
    },
    {
      "cell_type": "code",
      "source": [
        "from sklearn.metrics import classification_report\n",
        "\n",
        "# Use the best estimator to make predictions\n",
        "best_rf = grid_search.best_estimator_\n",
        "y_pred = best_rf.predict(X_test)\n",
        "\n",
        "# Print the classification report\n",
        "print(classification_report(y_test, y_pred, target_names=label_encoder.classes_))\n"
      ],
      "metadata": {
        "colab": {
          "base_uri": "https://localhost:8080/"
        },
        "id": "tKyWfu5FDqti",
        "outputId": "06448ea7-ce35-4d57-e5f1-64848bdeba97"
      },
      "execution_count": null,
      "outputs": [
        {
          "output_type": "stream",
          "name": "stdout",
          "text": [
            "              precision    recall  f1-score   support\n",
            "\n",
            "         ham       0.98      1.00      0.99       966\n",
            "        spam       1.00      0.90      0.95       149\n",
            "\n",
            "    accuracy                           0.99      1115\n",
            "   macro avg       0.99      0.95      0.97      1115\n",
            "weighted avg       0.99      0.99      0.99      1115\n",
            "\n"
          ]
        }
      ]
    },
    {
      "cell_type": "code",
      "source": [
        "from sklearn.metrics import confusion_matrix, accuracy_score, precision_score, recall_score, f1_score, classification_report\n",
        "import matplotlib.pyplot as plt\n",
        "import seaborn as sns\n"
      ],
      "metadata": {
        "id": "ZrE9ktFp3cC8"
      },
      "execution_count": null,
      "outputs": []
    },
    {
      "cell_type": "code",
      "source": [
        "# Use the best model from grid search to make predictions on the test set\n",
        "y_pred = best_rf.predict(X_test)\n"
      ],
      "metadata": {
        "id": "YZgDnrNE3_jX"
      },
      "execution_count": null,
      "outputs": []
    },
    {
      "cell_type": "code",
      "source": [
        "# Calculate the confusion matrix\n",
        "conf_matrix = confusion_matrix(y_test, y_pred)\n",
        "\n",
        "# Plot the confusion matrix\n",
        "sns.heatmap(conf_matrix, annot=True, fmt='d', cmap='Blues', xticklabels=['Ham', 'Spam'], yticklabels=['Ham', 'Spam'])\n",
        "plt.xlabel('Predicted Labels')\n",
        "plt.ylabel('True Labels')\n",
        "plt.title('Confusion Matrix')\n",
        "plt.show()\n"
      ],
      "metadata": {
        "colab": {
          "base_uri": "https://localhost:8080/",
          "height": 472
        },
        "id": "F5QEq6ex4Cx4",
        "outputId": "e34f619d-a4ff-4efb-b172-1f99513e6db4"
      },
      "execution_count": null,
      "outputs": [
        {
          "output_type": "display_data",
          "data": {
            "text/plain": [
              "<Figure size 640x480 with 2 Axes>"
            ],
            "image/png": "[encoded data removed]"
          },
          "metadata": {}
        }
      ]
    },
    {
      "cell_type": "code",
      "source": [
        "# Calculate metrics\n",
        "accuracy = accuracy_score(y_test, y_pred)\n",
        "precision = precision_score(y_test, y_pred, average='binary')\n",
        "recall = recall_score(y_test, y_pred, average='binary')\n",
        "f1 = f1_score(y_test, y_pred, average='binary')\n",
        "\n",
        "# Print metrics\n",
        "print(f'Accuracy: {accuracy:.4f}')\n",
        "print(f'Precision: {precision:.4f}')\n",
        "print(f'Recall: {recall:.4f}')\n",
        "print(f'F1 Score: {f1:.4f}')\n",
        "\n",
        "# Print classification report for a detailed performance analysis\n",
        "print(\"\\nClassification Report:\\n\")\n",
        "print(classification_report(y_test, y_pred, target_names=['Ham', 'Spam']))\n"
      ],
      "metadata": {
        "colab": {
          "base_uri": "https://localhost:8080/"
        },
        "id": "vCnESql0DftS",
        "outputId": "2d84220a-3e26-43de-ff60-8001ded90eef"
      },
      "execution_count": null,
      "outputs": [
        {
          "output_type": "stream",
          "name": "stdout",
          "text": [
            "Accuracy: 0.9865\n",
            "Precision: 1.0000\n",
            "Recall: 0.8993\n",
            "F1 Score: 0.9470\n",
            "\n",
            "Classification Report:\n",
            "\n",
            "              precision    recall  f1-score   support\n",
            "\n",
            "         Ham       0.98      1.00      0.99       966\n",
            "        Spam       1.00      0.90      0.95       149\n",
            "\n",
            "    accuracy                           0.99      1115\n",
            "   macro avg       0.99      0.95      0.97      1115\n",
            "weighted avg       0.99      0.99      0.99      1115\n",
            "\n"
          ]
        }
      ]
    },
    {
      "cell_type": "code",
      "source": [
        "# Assuming 'grid_search' is your GridSearchCV object\n",
        "best_rf = grid_search.best_estimator_\n",
        "\n",
        "# Now, you can use get_params() on best_rf as shown above\n",
        "model_params = best_rf.get_params()\n",
        "print(\"Parameters of the best model found by GridSearchCV:\\n\")\n",
        "for param, value in model_params.items():\n",
        "    print(f\"{param}: {value}\")\n"
      ],
      "metadata": {
        "id": "fhmgyJPEJeYi",
        "colab": {
          "base_uri": "https://localhost:8080/"
        },
        "outputId": "d95911f0-83e0-47ef-bb37-d43e076457e3"
      },
      "execution_count": null,
      "outputs": [
        {
          "output_type": "stream",
          "name": "stdout",
          "text": [
            "Parameters of the best model found by GridSearchCV:\n",
            "\n",
            "bootstrap: False\n",
            "ccp_alpha: 0.0\n",
            "class_weight: None\n",
            "criterion: gini\n",
            "max_depth: None\n",
            "max_features: auto\n",
            "max_leaf_nodes: None\n",
            "max_samples: None\n",
            "min_impurity_decrease: 0.0\n",
            "min_samples_leaf: 1\n",
            "min_samples_split: 2\n",
            "min_weight_fraction_leaf: 0.0\n",
            "n_estimators: 100\n",
            "n_jobs: None\n",
            "oob_score: False\n",
            "random_state: 42\n",
            "verbose: 0\n",
            "warm_start: False\n"
          ]
        }
      ]
    },
    {
      "cell_type": "markdown",
      "source": [
        "--------------------------------------------------------------------------------\n",
        "**Decision Tree**"
      ],
      "metadata": {
        "id": "LPnGWECbKDpR"
      }
    },
    {
      "cell_type": "code",
      "source": [
        "from sklearn.model_selection import train_test_split\n",
        "from sklearn.feature_extraction.text import CountVectorizer\n",
        "from sklearn.tree import DecisionTreeClassifier\n",
        "from sklearn.metrics import accuracy_score, classification_report\n",
        "from sklearn.metrics import confusion_matrix, accuracy_score, precision_score, recall_score, f1_score, classification_report\n",
        "import matplotlib.pyplot as plt\n",
        "import seaborn as sns\n",
        "import pandas as pd\n",
        "\n",
        "# Specify the path to your Excel file\n",
        "file_path = 'SPAM-text-message.xlsx'\n",
        "\n",
        "# Use pandas to read the Excel file\n",
        "data = pd.read_excel(file_path)\n",
        "data['Message'] = data['Message'].astype(str)\n",
        "\n",
        "# Preprocess data: Convert 'Category' into numerical values (spam=1, ham=0)\n",
        "data['Category'] = data['Category'].map({'spam': 1, 'ham': 0})"
      ],
      "metadata": {
        "id": "WR3TLo-0TlZ3"
      },
      "execution_count": null,
      "outputs": []
    },
    {
      "cell_type": "code",
      "source": [
        "#\n",
        "# Split the dataset into training and testing sets\n",
        "X_train, X_test, y_train, y_test = train_test_split(data['Message'], data['Category'], test_size=0.2, random_state=42)"
      ],
      "metadata": {
        "id": "Fe4RUdkcW5ah"
      },
      "execution_count": null,
      "outputs": []
    },
    {
      "cell_type": "code",
      "source": [
        "\n",
        "# Assuming the initial split and vectorization\n",
        "from sklearn.feature_extraction.text import TfidfVectorizer\n",
        "\n",
        "tfidf_vectorizer = TfidfVectorizer()\n",
        "\n",
        "# Fit_transform on the training data and transform on the test data\n",
        "X_train_tfidf = tfidf_vectorizer.fit_transform(X_train)\n",
        "X_test_tfidf = tfidf_vectorizer.transform(X_test)\n",
        "\n",
        "# Apply SMOTE to the training data AFTER vectorization\n",
        "from imblearn.over_sampling import SMOTE\n",
        "smote = SMOTE(random_state=42)\n",
        "X_train_resampled, y_train_resampled = smote.fit_resample(X_train_tfidf, y_train)\n",
        "\n",
        "from imblearn.over_sampling import RandomOverSampler\n",
        "\n",
        "ros = RandomOverSampler(random_state=42)\n",
        "X_train_resampled, y_train_resampled = ros.fit_resample(X_train_tfidf, y_train)\n",
        "\n",
        "\n",
        "\n",
        "\n",
        "# Training the model (assuming clf is your model, e.g., Decision Tree)\n",
        "clf.fit(X_train_resampled, y_train_resampled)\n",
        "\n",
        "# Make sure the error line is corrected as follows:\n",
        "# This ensures you're using the vectorized test data correctly\n",
        "y_pred = clf.predict(X_test_tfidf)\n",
        "\n"
      ],
      "metadata": {
        "id": "6Bfk4hqoKF-v"
      },
      "execution_count": null,
      "outputs": []
    },
    {
      "cell_type": "code",
      "source": [
        "from sklearn.metrics import confusion_matrix\n",
        "\n",
        "# Assuming the previous steps are already executed and y_pred is available\n",
        "\n",
        "# Calculate the confusion matrix\n",
        "conf_matrix = confusion_matrix(y_test, y_pred)\n",
        "\n",
        "print(\"Confusion Matrix:\")\n",
        "print(conf_matrix)\n",
        "\n",
        "\n",
        "# Plot the confusion matrix\n",
        "sns.heatmap(conf_matrix, annot=True, fmt='d', cmap='Blues', xticklabels=['Ham', 'Spam'], yticklabels=['Ham', 'Spam'])\n",
        "plt.xlabel('Predicted Labels')\n",
        "plt.ylabel('True Labels')\n",
        "plt.title('Confusion Matrix')\n",
        "plt.show()\n"
      ],
      "metadata": {
        "colab": {
          "base_uri": "https://localhost:8080/",
          "height": 524
        },
        "id": "iv-Xdbs3KjOU",
        "outputId": "48e232b0-db82-4685-d11c-7c75f81c62ab"
      },
      "execution_count": null,
      "outputs": [
        {
          "output_type": "stream",
          "name": "stdout",
          "text": [
            "Confusion Matrix:\n",
            "[[942  24]\n",
            " [ 18 131]]\n"
          ]
        },
        {
          "output_type": "display_data",
          "data": {
            "text/plain": [
              "<Figure size 640x480 with 2 Axes>"
            ],
            "image/png": "[encoded data removed]"
          },
          "metadata": {}
        }
      ]
    },
    {
      "cell_type": "code",
      "source": [
        "from sklearn.tree import DecisionTreeClassifier\n",
        "from sklearn.metrics import classification_report, accuracy_score\n",
        "from sklearn.feature_extraction.text import TfidfVectorizer\n",
        "from sklearn.model_selection import train_test_split\n",
        "import pandas as pd\n",
        "\n",
        "# Assuming 'data' is your DataFrame with 'Message' and 'Category' columns\n",
        "\n",
        "# Preprocess your data, if not already done\n",
        "# Convert 'Category' to numerical values, text cleaning, etc.\n",
        "\n",
        "# Split the dataset into training and testing sets\n",
        "X_train, X_test, y_train, y_test = train_test_split(data['Message'], data['Category'], test_size=0.2, random_state=42)\n",
        "\n",
        "# Vectorize the training text data using TF-IDF\n",
        "tfidf_vectorizer = TfidfVectorizer()\n",
        "X_train_tfidf = tfidf_vectorizer.fit_transform(X_train)\n",
        "\n",
        "# No oversampling is applied here\n",
        "\n",
        "# Initialize the Decision Tree Classifier\n",
        "clf_no_oversampling = DecisionTreeClassifier(random_state=42)\n",
        "\n",
        "# Train the classifier with the original, unbalanced training data\n",
        "clf_no_oversampling.fit(X_train_tfidf, y_train)\n",
        "\n",
        "# Vectorize the test data using the same TF-IDF vectorizer fitted on the training data\n",
        "X_test_tfidf = tfidf_vectorizer.transform(X_test)\n",
        "\n",
        "# Predict the labels for the test set\n",
        "y_pred_no_oversampling = clf_no_oversampling.predict(X_test_tfidf)\n",
        "\n",
        "# Evaluate the model's performance without oversampling\n",
        "accuracy_no_oversampling = accuracy_score(y_test, y_pred_no_oversampling)\n",
        "report_no_oversampling = classification_report(y_test, y_pred_no_oversampling)\n",
        "\n",
        "print(\"Accuracy (No Oversampling):\", accuracy_no_oversampling)\n",
        "print(\"Classification Report (No Oversampling):\\n\", report_no_oversampling)\n"
      ],
      "metadata": {
        "id": "SjanBJwnfqHk",
        "outputId": "5c1fd82e-4f9b-4409-e1aa-71ae6661cda6",
        "colab": {
          "base_uri": "https://localhost:8080/"
        }
      },
      "execution_count": null,
      "outputs": [
        {
          "output_type": "stream",
          "name": "stdout",
          "text": [
            "Accuracy (No Oversampling): 0.9730941704035875\n",
            "Classification Report (No Oversampling):\n",
            "               precision    recall  f1-score   support\n",
            "\n",
            "           0       0.98      0.99      0.98       966\n",
            "           1       0.95      0.85      0.89       149\n",
            "\n",
            "    accuracy                           0.97      1115\n",
            "   macro avg       0.96      0.92      0.94      1115\n",
            "weighted avg       0.97      0.97      0.97      1115\n",
            "\n"
          ]
        }
      ]
    },
    {
      "cell_type": "code",
      "source": [
        "conf_matrix = confusion_matrix(y_test, y_pred_no_oversampling)\n",
        "\n",
        "print(\"Confusion Matrix:\")\n",
        "print(conf_matrix)\n",
        "\n",
        "\n",
        "# Plot the confusion matrix\n",
        "sns.heatmap(conf_matrix, annot=True, fmt='d', cmap='Blues', xticklabels=['Ham', 'Spam'], yticklabels=['Ham', 'Spam'])\n",
        "plt.xlabel('Predicted Labels')\n",
        "plt.ylabel('True Labels')\n",
        "plt.title('Confusion Matrix')\n",
        "plt.show()\n"
      ],
      "metadata": {
        "id": "oMpxnwhCfyfA",
        "outputId": "823de864-ce13-412a-d0b5-065028d8bbe9",
        "colab": {
          "base_uri": "https://localhost:8080/",
          "height": 524
        }
      },
      "execution_count": null,
      "outputs": [
        {
          "output_type": "stream",
          "name": "stdout",
          "text": [
            "Confusion Matrix:\n",
            "[[959   7]\n",
            " [ 23 126]]\n"
          ]
        },
        {
          "output_type": "display_data",
          "data": {
            "text/plain": [
              "<Figure size 640x480 with 2 Axes>"
            ],
            "image/png": "[encoded data removed]"
          },
          "metadata": {}
        }
      ]
    },
    {
      "cell_type": "markdown",
      "source": [
        "**Prunded Decision Tree**"
      ],
      "metadata": {
        "id": "oAJV7mO-p4Rv"
      }
    },
    {
      "cell_type": "code",
      "source": [
        "from sklearn.tree import DecisionTreeClassifier\n",
        "from sklearn.metrics import classification_report, accuracy_score\n",
        "from sklearn.feature_extraction.text import TfidfVectorizer\n",
        "from sklearn.model_selection import train_test_split\n",
        "import pandas as pd\n",
        "\n",
        "# Assuming 'data' is your DataFrame with 'Message' and 'Category' columns\n",
        "\n",
        "# Preprocess your data, if not already done\n",
        "# Convert 'Category' to numerical values, text cleaning, etc.\n",
        "\n",
        "# Split the dataset into training and testing sets\n",
        "X_train, X_test, y_train, y_test = train_test_split(data['Message'], data['Category'], test_size=0.2, random_state=42)\n",
        "\n",
        "# Vectorize the training text data using TF-IDF\n",
        "tfidf_vectorizer = TfidfVectorizer()\n",
        "X_train_tfidf = tfidf_vectorizer.fit_transform(X_train)\n",
        "\n",
        "# Initialize the Decision Tree Classifier with pruning parameters\n",
        "clf_pruned = DecisionTreeClassifier(random_state=42, max_depth=5, min_samples_split=4, min_samples_leaf=2)\n",
        "\n",
        "# Train the classifier with the original, unbalanced training data\n",
        "clf_pruned.fit(X_train_tfidf, y_train)\n",
        "\n",
        "# Vectorize the test data using the same TF-IDF vectorizer fitted on the training data\n",
        "X_test_tfidf = tfidf_vectorizer.transform(X_test)\n",
        "\n",
        "# Predict the labels for the test set\n",
        "y_pred_pruned = clf_pruned.predict(X_test_tfidf)\n",
        "\n",
        "# Evaluate the model's performance with pruning\n",
        "accuracy_pruned = accuracy_score(y_test, y_pred_pruned)\n",
        "report_pruned = classification_report(y_test, y_pred_pruned)\n",
        "\n",
        "print(\"Accuracy (Pruned Decision Tree):\", accuracy_pruned)\n",
        "print(\"Classification Report (Pruned Decision Tree):\\n\", report_pruned)\n"
      ],
      "metadata": {
        "id": "SHGnRA-Pp2cn",
        "outputId": "e362d407-12b3-463f-df64-3942196e86df",
        "colab": {
          "base_uri": "https://localhost:8080/"
        }
      },
      "execution_count": null,
      "outputs": [
        {
          "output_type": "stream",
          "name": "stdout",
          "text": [
            "Accuracy (Pruned Decision Tree): 0.9443946188340807\n",
            "Classification Report (Pruned Decision Tree):\n",
            "               precision    recall  f1-score   support\n",
            "\n",
            "           0       0.94      0.99      0.97       966\n",
            "           1       0.95      0.62      0.75       149\n",
            "\n",
            "    accuracy                           0.94      1115\n",
            "   macro avg       0.95      0.81      0.86      1115\n",
            "weighted avg       0.94      0.94      0.94      1115\n",
            "\n"
          ]
        }
      ]
    },
    {
      "cell_type": "code",
      "source": [
        "conf_matrix = confusion_matrix(y_test, y_pred_no_oversampling)\n",
        "\n",
        "print(\"Confusion Matrix:\")\n",
        "print(conf_matrix)\n",
        "\n",
        "\n",
        "# Plot the confusion matrix\n",
        "sns.heatmap(conf_matrix, annot=True, fmt='d', cmap='Blues', xticklabels=['Ham', 'Spam'], yticklabels=['Ham', 'Spam'])\n",
        "plt.xlabel('Predicted Labels')\n",
        "plt.ylabel('True Labels')\n",
        "plt.title('Confusion Matrix')\n",
        "plt.show()"
      ],
      "metadata": {
        "id": "REQh7NcPqCDi",
        "outputId": "f01ef2af-29bb-4749-9c99-6f3c16956291",
        "colab": {
          "base_uri": "https://localhost:8080/",
          "height": 524
        }
      },
      "execution_count": null,
      "outputs": [
        {
          "output_type": "stream",
          "name": "stdout",
          "text": [
            "Confusion Matrix:\n",
            "[[959   7]\n",
            " [ 23 126]]\n"
          ]
        },
        {
          "output_type": "display_data",
          "data": {
            "text/plain": [
              "<Figure size 640x480 with 2 Axes>"
            ],
            "image/png": "[encoded data removed]"
          },
          "metadata": {}
        }
      ]
    },
    {
      "cell_type": "markdown",
      "source": [
        "**Pruned DT**"
      ],
      "metadata": {
        "id": "WY4prZzCQxOe"
      }
    },
    {
      "cell_type": "code",
      "source": [
        "from sklearn.tree import DecisionTreeClassifier\n",
        "from sklearn.metrics import classification_report, accuracy_score\n",
        "from sklearn.feature_extraction.text import TfidfVectorizer\n",
        "from sklearn.model_selection import train_test_split, GridSearchCV\n",
        "import pandas as pd\n",
        "\n",
        "# Assuming 'data' is your DataFrame with 'Message' and 'Category' columns\n",
        "\n",
        "# Preprocess your data, if not already done\n",
        "# Convert 'Category' to numerical values, text cleaning, etc.\n",
        "\n",
        "# Split the dataset into training and testing sets\n",
        "X_train, X_test, y_train, y_test = train_test_split(data['Message'], data['Category'], test_size=0.2, random_state=42)\n",
        "\n",
        "# Vectorize the training text data using TF-IDF\n",
        "tfidf_vectorizer = TfidfVectorizer()\n",
        "X_train_tfidf = tfidf_vectorizer.fit_transform(X_train)\n",
        "\n",
        "# Define the parameter grid for GridSearchCV\n",
        "param_grid = {\n",
        "    'criterion': ['gini'],\n",
        "    'max_depth': [None, 5, 10, 15, 20, 21, 22],\n",
        "    'min_samples_split': [10, 20, 21, 22, 23],\n",
        "    'min_samples_leaf': [1, 2, 4, 8, 10, 12, 16],\n",
        "    'max_features': [ None],\n",
        "    'min_impurity_decrease': [0., 0.01, 0.1],\n",
        "}\n",
        "\n",
        "# Initialize the Decision Tree Classifier\n",
        "dt_clf = DecisionTreeClassifier(random_state=42)\n",
        "\n",
        "# Initialize the GridSearchCV object\n",
        "grid_search = GridSearchCV(estimator=dt_clf, param_grid=param_grid, cv=5, scoring='accuracy', n_jobs=-1)\n",
        "\n",
        "# Fit GridSearchCV to the training data\n",
        "grid_search.fit(X_train_tfidf, y_train)\n",
        "\n",
        "# Print the best parameters found by GridSearchCV\n",
        "print(\"Best Parameters:\", grid_search.best_params_)\n",
        "\n",
        "# Use the best estimator found to predict on the test set\n",
        "y_pred_optimized = grid_search.best_estimator_.predict(tfidf_vectorizer.transform(X_test))\n",
        "\n",
        "# Evaluate the model's performance\n",
        "accuracy_optimized = accuracy_score(y_test, y_pred_optimized)\n",
        "report_optimized = classification_report(y_test, y_pred_optimized)\n",
        "\n",
        "print(\"Accuracy (Optimized Decision Tree):\", accuracy_optimized)\n",
        "print(\"Classification Report (Optimized Decision Tree):\\n\", report_optimized)\n"
      ],
      "metadata": {
        "colab": {
          "base_uri": "https://localhost:8080/"
        },
        "id": "rgTHKiAkIjbF",
        "outputId": "71a2e913-b307-4a2e-afab-864440d88cd9"
      },
      "execution_count": null,
      "outputs": [
        {
          "output_type": "stream",
          "name": "stdout",
          "text": [
            "Best Parameters: {'criterion': 'gini', 'max_depth': None, 'max_features': None, 'min_impurity_decrease': 0.0, 'min_samples_leaf': 1, 'min_samples_split': 10}\n",
            "Accuracy (Optimized Decision Tree): 0.9730941704035875\n",
            "Classification Report (Optimized Decision Tree):\n",
            "               precision    recall  f1-score   support\n",
            "\n",
            "           0       0.98      0.99      0.98       966\n",
            "           1       0.95      0.85      0.89       149\n",
            "\n",
            "    accuracy                           0.97      1115\n",
            "   macro avg       0.96      0.92      0.94      1115\n",
            "weighted avg       0.97      0.97      0.97      1115\n",
            "\n"
          ]
        }
      ]
    },
    {
      "cell_type": "code",
      "source": [
        "# Assuming 'grid_search' is your GridSearchCV object\n",
        "best_rf = grid_search.best_estimator_\n",
        "\n",
        "# Now, you can use get_params() on best_rf as shown above\n",
        "model_params = best_rf.get_params()\n",
        "print(\"Parameters of the best model found by GridSearchCV:\\n\")\n",
        "for param, value in model_params.items():\n",
        "    print(f\"{param}: {value}\")"
      ],
      "metadata": {
        "id": "kSJb45uPubE3",
        "outputId": "3558bff4-793f-4e36-b0a4-a909dbf84095",
        "colab": {
          "base_uri": "https://localhost:8080/"
        }
      },
      "execution_count": null,
      "outputs": [
        {
          "output_type": "stream",
          "name": "stdout",
          "text": [
            "Parameters of the best model found by GridSearchCV:\n",
            "\n",
            "ccp_alpha: 0.0\n",
            "class_weight: None\n",
            "criterion: gini\n",
            "max_depth: None\n",
            "max_features: None\n",
            "max_leaf_nodes: None\n",
            "min_impurity_decrease: 0.0\n",
            "min_samples_leaf: 1\n",
            "min_samples_split: 10\n",
            "min_weight_fraction_leaf: 0.0\n",
            "random_state: 42\n",
            "splitter: best\n"
          ]
        }
      ]
    },
    {
      "cell_type": "code",
      "source": [
        "from sklearn.metrics import confusion_matrix\n",
        "import seaborn as sns\n",
        "import matplotlib.pyplot as plt\n",
        "\n",
        "# Assuming the rest of the code is unchanged and grid_search has been fitted\n",
        "\n",
        "# Calculate the confusion matrix\n",
        "conf_matrix_optimized = confusion_matrix(y_test, y_pred_optimized)\n",
        "\n",
        "# Print the confusion matrix\n",
        "print(\"Confusion Matrix (Optimized Decision Tree):\")\n",
        "print(conf_matrix_optimized)\n",
        "\n",
        "# For a more visual representation, you can use seaborn's heatmap\n",
        "plt.figure(figsize=(8, 6))\n",
        "sns.heatmap(conf_matrix_optimized, annot=True, fmt='d', cmap='Blues', xticklabels=['Ham', 'Spam'], yticklabels=['Ham', 'Spam'])\n",
        "plt.xlabel('Predicted Labels')\n",
        "plt.ylabel('True Labels')\n",
        "plt.title('Confusion Matrix (Optimized Decision Tree)')\n",
        "plt.show()\n"
      ],
      "metadata": {
        "id": "g9xPetKMoq7N",
        "outputId": "f3aef294-c719-4b96-fd79-93b6a3819aa3",
        "colab": {
          "base_uri": "https://localhost:8080/",
          "height": 616
        }
      },
      "execution_count": null,
      "outputs": [
        {
          "output_type": "stream",
          "name": "stdout",
          "text": [
            "Confusion Matrix (Optimized Decision Tree):\n",
            "[[959   7]\n",
            " [ 23 126]]\n"
          ]
        },
        {
          "output_type": "display_data",
          "data": {
            "text/plain": [
              "<Figure size 800x600 with 2 Axes>"
            ],
            "image/png": "[encoded data removed]"
          },
          "metadata": {}
        }
      ]
    },
    {
      "cell_type": "code",
      "source": [
        "from sklearn.ensemble import RandomForestClassifier\n",
        "from sklearn.model_selection import GridSearchCV\n",
        "from sklearn.metrics import classification_report, accuracy_score, confusion_matrix\n",
        "from sklearn.feature_extraction.text import TfidfVectorizer\n",
        "from sklearn.model_selection import train_test_split\n",
        "import pandas as pd\n",
        "import seaborn as sns\n",
        "import matplotlib.pyplot as plt\n",
        "\n",
        "# Assuming 'data' is your DataFrame with 'Message' and 'Category' columns\n",
        "\n",
        "# Preprocess your data, if not already done\n",
        "# Convert 'Category' to numerical values, text cleaning, etc.\n",
        "\n",
        "# Split the dataset into training and testing sets\n",
        "X_train, X_test, y_train, y_test = train_test_split(data['Message'], data['Category'], test_size=0.2, random_state=42)\n",
        "\n",
        "# Vectorize the training text data using TF-IDF\n",
        "tfidf_vectorizer = TfidfVectorizer()\n",
        "X_train_tfidf = tfidf_vectorizer.fit_transform(X_train)\n",
        "\n",
        "# Define the parameter grid for GridSearchCV\n",
        "param_grid_rf = {\n",
        "    'n_estimators': [10, 50, 100],\n",
        "    'max_depth': [None, 10, 20, 30],\n",
        "    'min_samples_split': [2, 5],\n",
        "    'min_samples_leaf': [1, 2],\n",
        "    'bootstrap': [True, False]\n",
        "}\n",
        "\n",
        "# Initialize the Random Forest Classifier\n",
        "rf_clf = RandomForestClassifier(random_state=42)\n",
        "\n",
        "# Initialize the GridSearchCV object\n",
        "grid_search_rf = GridSearchCV(estimator=rf_clf, param_grid=param_grid_rf, cv=5, scoring='accuracy', n_jobs=-1)\n",
        "\n",
        "# Fit GridSearchCV to the training data\n",
        "grid_search_rf.fit(X_train_tfidf, y_train)\n",
        "\n",
        "# Print the best parameters found by GridSearchCV\n",
        "print(\"Best Parameters:\", grid_search_rf.best_params_)\n",
        "\n",
        "# Use the best estimator found to predict on the test set\n",
        "y_pred_rf_optimized = grid_search_rf.best_estimator_.predict(tfidf_vectorizer.transform(X_test))\n",
        "\n",
        "# Evaluate the model's performance\n",
        "accuracy_rf_optimized = accuracy_score(y_test, y_pred_rf_optimized)\n",
        "report_rf_optimized = classification_report(y_test, y_pred_rf_optimized)\n",
        "conf_matrix_rf_optimized = confusion_matrix(y_test, y_pred_rf_optimized)\n",
        "\n",
        "print(\"Accuracy (Optimized Random Forest):\", accuracy_rf_optimized)\n",
        "print(\"Classification Report (Optimized Random Forest):\\n\", report_rf_optimized)\n",
        "\n",
        "# Visualize the confusion matrix\n",
        "plt.figure(figsize=(8, 6))\n",
        "sns.heatmap(conf_matrix_rf_optimized, annot=True, fmt='d', cmap='Blues', xticklabels=['Ham', 'Spam'], yticklabels=['Ham', 'Spam'])\n",
        "plt.xlabel('Predicted Labels')\n",
        "plt.ylabel('True Labels')\n",
        "plt.title('Confusion Matrix (Optimized Random Forest)')\n",
        "plt.show()\n"
      ],
      "metadata": {
        "id": "C4KTqcT55w-4",
        "outputId": "111c2add-0514-4b49-bbfa-da03d59e3ba7",
        "colab": {
          "base_uri": "https://localhost:8080/",
          "height": 772
        }
      },
      "execution_count": null,
      "outputs": [
        {
          "output_type": "stream",
          "name": "stdout",
          "text": [
            "Best Parameters: {'bootstrap': False, 'max_depth': None, 'min_samples_leaf': 1, 'min_samples_split': 5, 'n_estimators': 100}\n",
            "Accuracy (Optimized Random Forest): 0.9847533632286996\n",
            "Classification Report (Optimized Random Forest):\n",
            "               precision    recall  f1-score   support\n",
            "\n",
            "           0       0.98      1.00      0.99       966\n",
            "           1       0.99      0.89      0.94       149\n",
            "\n",
            "    accuracy                           0.98      1115\n",
            "   macro avg       0.99      0.95      0.97      1115\n",
            "weighted avg       0.98      0.98      0.98      1115\n",
            "\n"
          ]
        },
        {
          "output_type": "display_data",
          "data": {
            "text/plain": [
              "<Figure size 800x600 with 2 Axes>"
            ],
            "image/png": "[encoded data removed]"
          },
          "metadata": {}
        }
      ]
    },
    {
      "cell_type": "code",
      "source": [],
      "metadata": {
        "id": "alS20EGtVVvf"
      },
      "execution_count": null,
      "outputs": []
    },
    {
      "cell_type": "code",
      "source": [
        "# Evaluate the model's performance\n",
        "accuracy_rf_optimized = accuracy_score(y_test, y_pred_rf_optimized)\n",
        "report_rf_optimized = classification_report(y_test, y_pred_rf_optimized)\n",
        "conf_matrix_rf_optimized = confusion_matrix(y_test, y_pred_rf_optimized)\n",
        "precision = precision_score(y_test, y_pred_rf_optimized, average='weighted')  # You can change average method depending on your use case\n",
        "recall = recall_score(y_test, y_pred_rf_optimized, average='weighted')\n",
        "f1 = f1_score(y_test, y_pred_rf_optimized, average='weighted')\n",
        "\n",
        "\n",
        "print(\"Accuracy (Optimized Random Forest):\", accuracy_rf_optimized)\n",
        "print(\"Classification Report (Optimized Random Forest):\\n\", report_rf_optimized)\n",
        "\n",
        "\n",
        "# Print the performance statistics\n",
        "print(f\"Accuracy: {accuracy:.4f}\")\n",
        "print(f\"Precision: {precision:.4f}\")\n",
        "print(f\"Recall: {recall:.4f}\")\n",
        "print(f\"F1 Score: {f1:.4f}\")\n",
        "\n",
        "# Print classification report for deta\n"
      ],
      "metadata": {
        "id": "ooZ8kg_77_KP",
        "outputId": "7bc00a59-6dcd-45ed-cba1-f35fe2aee692",
        "colab": {
          "base_uri": "https://localhost:8080/"
        }
      },
      "execution_count": null,
      "outputs": [
        {
          "output_type": "stream",
          "name": "stdout",
          "text": [
            "Accuracy (Optimized Random Forest): 0.9847533632286996\n",
            "Classification Report (Optimized Random Forest):\n",
            "               precision    recall  f1-score   support\n",
            "\n",
            "           0       0.98      1.00      0.99       966\n",
            "           1       0.99      0.89      0.94       149\n",
            "\n",
            "    accuracy                           0.98      1115\n",
            "   macro avg       0.99      0.95      0.97      1115\n",
            "weighted avg       0.98      0.98      0.98      1115\n",
            "\n",
            "Accuracy: 0.9922\n",
            "Precision: 0.9849\n",
            "Recall: 0.9848\n",
            "F1 Score: 0.9844\n"
          ]
        }
      ]
    },
    {
      "cell_type": "markdown",
      "source": [
        "**pre-processing**"
      ],
      "metadata": {
        "id": "uB9OELTTah54"
      }
    },
    {
      "cell_type": "code",
      "source": [
        "import nltk\n",
        "nltk.download('wordnet')\n",
        "nltk.download('omw-1.4')\n"
      ],
      "metadata": {
        "colab": {
          "base_uri": "https://localhost:8080/"
        },
        "id": "Uw8mdlzYNu2E",
        "outputId": "6095577e-5a39-42e5-f9d0-9b2649084d5e"
      },
      "execution_count": null,
      "outputs": [
        {
          "output_type": "stream",
          "name": "stderr",
          "text": [
            "[nltk_data] Downloading package wordnet to /root/nltk_data...\n",
            "[nltk_data]   Package wordnet is already up-to-date!\n",
            "[nltk_data] Downloading package omw-1.4 to /root/nltk_data...\n",
            "[nltk_data]   Package omw-1.4 is already up-to-date!\n"
          ]
        },
        {
          "output_type": "execute_result",
          "data": {
            "text/plain": [
              "True"
            ]
          },
          "metadata": {},
          "execution_count": 182
        }
      ]
    },
    {
      "cell_type": "code",
      "source": [
        "from nltk.stem import WordNetLemmatizer\n",
        "from nltk.tokenize import word_tokenize\n",
        "nltk.download('punkt')\n",
        "\n",
        "def lemmatize_text(text):\n",
        "    lemmatizer = WordNetLemmatizer()\n",
        "    word_tokens = word_tokenize(text)\n",
        "    lemmatized_words = [lemmatizer.lemmatize(word) for word in word_tokens]\n",
        "    return ' '.join(lemmatized_words)\n"
      ],
      "metadata": {
        "colab": {
          "base_uri": "https://localhost:8080/"
        },
        "id": "Kwtgx2hGNzE2",
        "outputId": "5558bfe9-8abd-4393-b16a-3790a2bc2a0b"
      },
      "execution_count": null,
      "outputs": [
        {
          "output_type": "stream",
          "name": "stderr",
          "text": [
            "[nltk_data] Downloading package punkt to /root/nltk_data...\n",
            "[nltk_data]   Package punkt is already up-to-date!\n"
          ]
        }
      ]
    },
    {
      "cell_type": "code",
      "source": [
        "# Apply lemmatization to the 'Message' column\n",
        "data['Message'] = data['Message'].apply(lemmatize_text)\n",
        "\n",
        "# Proceed with your data splitting, vectorization, and model training as before\n"
      ],
      "metadata": {
        "id": "WNQ5OuFMPiXz"
      },
      "execution_count": null,
      "outputs": []
    },
    {
      "cell_type": "code",
      "source": [
        "smiley_dict = {\n",
        "    \":)\": \"happy\",\n",
        "    \":(\": \"sad\",\n",
        "    \": (\": \"sad\",\n",
        "    \";)\": \"wink\",\n",
        "    \"; )\": \"wink\",\n",
        "    \"; )\": \"wink\",\n",
        "    \":-)\": \"happy\",\n",
        "    \": )\": \"happy\",\n",
        "    \":-(\": \"sad\",\n",
        "    \": (\": \"sad\",\n",
        "    \"; - )\": \"wink\",\n",
        "    \": - )\": \"happy\",\n",
        "    \": )\": \"happy\",\n",
        "    \": - (\": \"sad\",\n",
        "    \"; - )\": \"wink\",\n",
        "    \":D\": \"laughing\",\n",
        "    \": D\": \"laughing\",\n",
        "    \"XD\": \"laughing\",\n",
        "    \":P\": \"playful\",\n",
        "    \";P\": \"playful\",\n",
        "    \":-P\": \"playful\",\n",
        "    \":-D\": \"laughing\",\n",
        "    \":o\": \"surprised\",\n",
        "    \":O\": \"surprised\",\n",
        "    \":-o\": \"surprised\",\n",
        "    \":-O\": \"surprised\",\n",
        "    \":'(\": \"crying\",\n",
        "    \":'-)\": \"tears_of_joy\",\n",
        "    \":/\": \"skeptical\",\n",
        "    \":-/\": \"skeptical\",\n",
        "    \"=/\": \"skeptical\",\n",
        "    \"=)\": \"happy\",\n",
        "    \"=-)\": \"happy\",\n",
        "    \">:(\": \"angry\",\n",
        "    \">:-(\": \"angry\",\n",
        "    \"<3\": \"love\",\n",
        "    \":*\": \"kiss\",\n",
        "    \";*\": \"kiss\",\n",
        "    \":-*\": \"kiss\",\n",
        "    \"<(')\": \"penguin\",  # Sometimes used to represent cuteness or a specific meme\n",
        "    # Add more smileys as needed\n",
        "}\n",
        "\n",
        "\n",
        "def convert_smileys(text):\n",
        "    for smiley, word in smiley_dict.items():\n",
        "        text = text.replace(smiley, word)\n",
        "    return text\n"
      ],
      "metadata": {
        "id": "grUcXUW2PlOo"
      },
      "execution_count": null,
      "outputs": []
    },
    {
      "cell_type": "code",
      "source": [
        "import nltk\n",
        "from nltk.corpus import stopwords\n",
        "nltk.download('stopwords')\n",
        "\n",
        "stop_words = set(stopwords.words('english'))\n",
        "\n",
        "def remove_stop_words(text):\n",
        "    word_tokens = word_tokenize(text)\n",
        "    filtered_text = [word for word in word_tokens if word.lower() not in stop_words]\n",
        "    return ' '.join(filtered_text)\n"
      ],
      "metadata": {
        "colab": {
          "base_uri": "https://localhost:8080/"
        },
        "id": "arLMcXwYSucK",
        "outputId": "c06f5ea5-10db-4351-d44e-c5eb8ef2e5e7"
      },
      "execution_count": null,
      "outputs": [
        {
          "output_type": "stream",
          "name": "stderr",
          "text": [
            "[nltk_data] Downloading package stopwords to /root/nltk_data...\n",
            "[nltk_data]   Package stopwords is already up-to-date!\n"
          ]
        }
      ]
    },
    {
      "cell_type": "code",
      "source": [
        "def preprocess_text(text):\n",
        "    # Convert smileys to words\n",
        "    text = convert_smileys(text)\n",
        "    # Remove stop words\n",
        "    text = remove_stop_words(text)\n",
        "    # You can also add lemmatization or stemming here\n",
        "    return text\n",
        "\n",
        "# Apply preprocessing to the 'Message' column\n",
        "data['Message'] = data['Message'].apply(preprocess_text)\n",
        "\n",
        "# Now, proceed with the data splitting, vectorization, and model training\n"
      ],
      "metadata": {
        "id": "xSgeVipKSCbC"
      },
      "execution_count": null,
      "outputs": []
    },
    {
      "cell_type": "code",
      "source": [
        "\n",
        "# Specify the file path and name for the Excel file you want to create\n",
        "file_path = 'data.xlsx'\n",
        "\n",
        "# Export y_train to an Excel file\n",
        "data.to_excel(file_path, index=False)  # Set index=False to not include the index in the file\n",
        "\n"
      ],
      "metadata": {
        "id": "A0GnLqxgSyGb"
      },
      "execution_count": null,
      "outputs": []
    },
    {
      "cell_type": "markdown",
      "source": [
        "**ANN**"
      ],
      "metadata": {
        "id": "Bb1wWeFeWQVd"
      }
    },
    {
      "cell_type": "code",
      "source": [
        "# Assuming you have a DataFrame 'data' with 'Message' and 'Category' columns\n",
        "from sklearn.feature_extraction.text import TfidfVectorizer\n",
        "from sklearn.model_selection import train_test_split\n",
        "from sklearn.preprocessing import LabelEncoder\n",
        "import torch\n",
        "from torch.utils.data import DataLoader, TensorDataset\n",
        "\n",
        "# Vectorize the text data using TF-IDF\n",
        "tfidf_vectorizer = TfidfVectorizer()\n",
        "X_tfidf = tfidf_vectorizer.fit_transform(data['Message']).toarray()\n",
        "\n",
        "# Encode the labels\n",
        "label_encoder = LabelEncoder()\n",
        "y_encoded = label_encoder.fit_transform(data['Category'])\n",
        "\n",
        "# Now, make sure X_tfidf and y_encoded have the same length\n",
        "assert X_tfidf.shape[0] == len(y_encoded), \"The features and labels do not have the same length.\"\n",
        "\n",
        "# Split the dataset\n",
        "X_train, X_test, y_train, y_test = train_test_split(X_tfidf, y_encoded, test_size=0.2, random_state=42)\n",
        "\n",
        "# Convert to PyTorch tensors\n",
        "X_train_tensor = torch.FloatTensor(X_train)\n",
        "y_train_tensor = torch.LongTensor(y_train)\n",
        "X_test_tensor = torch.FloatTensor(X_test)\n",
        "y_test_tensor = torch.LongTensor(y_test)\n",
        "\n",
        "# Proceed with the creation of TensorDatasets and DataLoaders\n",
        "train_dataset = TensorDataset(X_train_tensor, y_train_tensor)\n",
        "test_dataset = TensorDataset(X_test_tensor, y_test_tensor)\n",
        "\n",
        "batch_size = 64  # Adjust as needed\n",
        "train_loader = DataLoader(dataset=train_dataset, batch_size=batch_size, shuffle=True)\n",
        "test_loader = DataLoader(dataset=test_dataset, batch_size=batch_size, shuffle=False)\n",
        "\n",
        "# Continue with model building, training, and evaluation\n"
      ],
      "metadata": {
        "id": "cDYNFGPAWPnW"
      },
      "execution_count": null,
      "outputs": []
    },
    {
      "cell_type": "code",
      "source": [
        "import torch.nn as nn\n",
        "import torch.nn.functional as F\n",
        "\n",
        "class TextClassifier(nn.Module):\n",
        "    def __init__(self, input_dim, output_dim):\n",
        "        super(TextClassifier, self).__init__()\n",
        "        self.fc1 = nn.Linear(input_dim, 512)\n",
        "        self.fc2 = nn.Linear(512, 256)\n",
        "        self.fc3 = nn.Linear(256, output_dim)\n",
        "        self.dropout = nn.Dropout(0.5)\n",
        "\n",
        "    def forward(self, x):\n",
        "        x = F.relu(self.fc1(x))\n",
        "        x = self.dropout(x)\n",
        "        x = F.relu(self.fc2(x))\n",
        "        x = self.dropout(x)\n",
        "        x = self.fc3(x)\n",
        "        return x\n",
        "\n",
        "# Model instantiation\n",
        "input_dim = X_train.shape[1]  # Number of features\n",
        "output_dim = len(np.unique(y_encoded))  # Number of unique labels\n",
        "\n",
        "model = TextClassifier(input_dim, output_dim)\n"
      ],
      "metadata": {
        "id": "VzUGwBr-WXcp"
      },
      "execution_count": null,
      "outputs": []
    },
    {
      "cell_type": "code",
      "source": [
        "import torch.optim as optim\n",
        "\n",
        "# Loss and optimizer\n",
        "criterion = nn.CrossEntropyLoss()\n",
        "optimizer = optim.Adam(model.parameters(), lr=0.001)\n",
        "\n",
        "# Training loop\n",
        "epochs = 500  # Number of epochs\n",
        "for epoch in range(epochs):\n",
        "    model.train()  # Set model to training mode\n",
        "    for inputs, labels in train_loader:\n",
        "        optimizer.zero_grad()  # Zero the parameter gradients\n",
        "        outputs = model(inputs)  # Forward pass\n",
        "        loss = criterion(outputs, labels)  # Compute loss\n",
        "        loss.backward()  # Backpropagation\n",
        "        optimizer.step()  # Optimize\n",
        "\n",
        "    print(f'Epoch {epoch+1}/{epochs}, Loss: {loss.item()}')\n"
      ],
      "metadata": {
        "id": "Gc6rbIv9WfY8",
        "outputId": "cb9ceeb0-d828-40f4-9551-b0a5db19edc6",
        "colab": {
          "base_uri": "https://localhost:8080/"
        }
      },
      "execution_count": null,
      "outputs": [
        {
          "output_type": "stream",
          "name": "stdout",
          "text": [
            "Epoch 1/500, Loss: 0.00030184336355887353\n",
            "Epoch 2/500, Loss: 3.6053370422450826e-07\n",
            "Epoch 3/500, Loss: 8.228807564591989e-05\n",
            "Epoch 4/500, Loss: 3.907565769623034e-06\n",
            "Epoch 5/500, Loss: 9.594732546247542e-07\n",
            "Epoch 6/500, Loss: 6.910295724082971e-06\n",
            "Epoch 7/500, Loss: 1.1717283996404149e-06\n"
          ]
        }
      ]
    },
    {
      "cell_type": "code",
      "source": [
        "# Evaluation mode\n",
        "model.eval()\n",
        "correct = 0\n",
        "total = 0\n",
        "with torch.no_grad():\n",
        "    for inputs, labels in test_loader:\n",
        "        outputs = model(inputs)\n",
        "        _, predicted = torch.max(outputs.data, 1)\n",
        "        total += labels.size(0)\n",
        "        correct += (predicted == labels).sum().item()\n",
        "\n",
        "print(f'Accuracy of the model on the test set: {100 * correct / total}%')\n"
      ],
      "metadata": {
        "id": "SvS5IezJWgCs",
        "outputId": "1f280034-a9e2-4c6f-b3ac-6c5cd753da05",
        "colab": {
          "base_uri": "https://localhost:8080/"
        }
      },
      "execution_count": null,
      "outputs": [
        {
          "output_type": "stream",
          "name": "stdout",
          "text": [
            "Accuracy of the model on the test set: 98.56502242152466%\n"
          ]
        }
      ]
    },
    {
      "cell_type": "code",
      "source": [
        "from sklearn.metrics import confusion_matrix, accuracy_score, precision_score, recall_score, f1_score\n",
        "import seaborn as sns\n",
        "import matplotlib.pyplot as plt\n",
        "import numpy as np\n",
        "\n",
        "# Assuming you have y_test and your model predictions y_pred ready\n",
        "# For this example, let's convert y_pred from PyTorch tensor to numpy array if it's not already\n",
        "# y_pred = model(X_test_tensor).argmax(dim=1).numpy() # Uncomment if you need to generate y_pred\n",
        "\n",
        "# Calculate confusion matrix\n",
        "conf_matrix = confusion_matrix(y_test, y_pred)\n",
        "\n",
        "# Calculate performance metrics\n",
        "accuracy = accuracy_score(y_test, y_pred)\n",
        "precision = precision_score(y_test, y_pred, average='weighted')  # Adjust average as appropriate\n",
        "recall = recall_score(y_test, y_pred, average='weighted')  # Adjust average as appropriate\n",
        "f1 = f1_score(y_test, y_pred, average='weighted')  # Adjust average as appropriate\n",
        "\n",
        "# Print performance metrics\n",
        "print(f'Accuracy: {accuracy:.4f}')\n",
        "print(f'Precision: {precision:.4f}')\n",
        "print(f'Recall: {recall:.4f}')\n",
        "print(f'F1 Score: {f1:.4f}')\n",
        "\n",
        "# Plot confusion matrix\n",
        "fig, ax = plt.subplots(figsize=(8, 6))\n",
        "sns.heatmap(conf_matrix, annot=True, fmt='d', cmap='Blues', ax=ax)\n",
        "ax.set_xlabel('Predicted Labels')\n",
        "ax.set_ylabel('True Labels')\n",
        "ax.set_title('Confusion Matrix')\n",
        "plt.show()\n"
      ],
      "metadata": {
        "id": "EXmo6XP6XAEi",
        "outputId": "e66320b7-fdba-4d2d-cdb5-8544755c8feb",
        "colab": {
          "base_uri": "https://localhost:8080/",
          "height": 633
        }
      },
      "execution_count": null,
      "outputs": [
        {
          "output_type": "stream",
          "name": "stdout",
          "text": [
            "Accuracy: 0.8879\n",
            "Precision: 0.8942\n",
            "Recall: 0.8879\n",
            "F1 Score: 0.8907\n"
          ]
        },
        {
          "output_type": "display_data",
          "data": {
            "text/plain": [
              "<Figure size 800x600 with 2 Axes>"
            ],
            "image/png": "[encoded data removed]"
          },
          "metadata": {}
        }
      ]
    }
  ],
  "metadata": {
    "colab": {
      "name": "Welcome To Colaboratory",
      "provenance": [],
      "include_colab_link": true
    },
    "kernelspec": {
      "display_name": "Python 3",
      "name": "python3"
    }
  },
  "nbformat": 4,
  "nbformat_minor": 0
}