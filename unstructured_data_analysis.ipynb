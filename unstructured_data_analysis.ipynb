{
  "nbformat": 4,
  "nbformat_minor": 0,
  "metadata": {
    "colab": {
      "provenance": [],
      "authorship_tag": "ABX9TyO5NUGgGoSWWd+dhp/xnSsK",
      "include_colab_link": true
    },
    "kernelspec": {
      "name": "python3",
      "display_name": "Python 3"
    },
    "language_info": {
      "name": "python"
    },
    "widgets": {
      "application/vnd.jupyter.widget-state+json": {
        "2d71931caaec4df38295c4cf67f5ffff": {
          "model_module": "@jupyter-widgets/controls",
          "model_name": "HBoxModel",
          "model_module_version": "1.5.0",
          "state": {
            "_dom_classes": [],
            "_model_module": "@jupyter-widgets/controls",
            "_model_module_version": "1.5.0",
            "_model_name": "HBoxModel",
            "_view_count": null,
            "_view_module": "@jupyter-widgets/controls",
            "_view_module_version": "1.5.0",
            "_view_name": "HBoxView",
            "box_style": "",
            "children": [
              "IPY_MODEL_c913eeaedd1e4a7e9dcf1dd4a86765fb",
              "IPY_MODEL_617e11467c014d8ca68a4d9eec9741d6",
              "IPY_MODEL_574bdf43b5e9459194b6ba563ada520e"
            ],
            "layout": "IPY_MODEL_51936a28e73c40d0a2e424fe207f6da8"
          }
        },
        "c913eeaedd1e4a7e9dcf1dd4a86765fb": {
          "model_module": "@jupyter-widgets/controls",
          "model_name": "HTMLModel",
          "model_module_version": "1.5.0",
          "state": {
            "_dom_classes": [],
            "_model_module": "@jupyter-widgets/controls",
            "_model_module_version": "1.5.0",
            "_model_name": "HTMLModel",
            "_view_count": null,
            "_view_module": "@jupyter-widgets/controls",
            "_view_module_version": "1.5.0",
            "_view_name": "HTMLView",
            "description": "",
            "description_tooltip": null,
            "layout": "IPY_MODEL_67878aa362d94fa38fcc531c3c1c49cb",
            "placeholder": "​",
            "style": "IPY_MODEL_266407546226433baa8b08568c23a3d3",
            "value": "pytorch_model.bin: 100%"
          }
        },
        "617e11467c014d8ca68a4d9eec9741d6": {
          "model_module": "@jupyter-widgets/controls",
          "model_name": "FloatProgressModel",
          "model_module_version": "1.5.0",
          "state": {
            "_dom_classes": [],
            "_model_module": "@jupyter-widgets/controls",
            "_model_module_version": "1.5.0",
            "_model_name": "FloatProgressModel",
            "_view_count": null,
            "_view_module": "@jupyter-widgets/controls",
            "_view_module_version": "1.5.0",
            "_view_name": "ProgressView",
            "bar_style": "success",
            "description": "",
            "description_tooltip": null,
            "layout": "IPY_MODEL_aad8a407e619479ba07edf0ff580833c",
            "max": 267844284,
            "min": 0,
            "orientation": "horizontal",
            "style": "IPY_MODEL_afacc506b13c4462a66d6d50e89328cf",
            "value": 267844284
          }
        },
        "574bdf43b5e9459194b6ba563ada520e": {
          "model_module": "@jupyter-widgets/controls",
          "model_name": "HTMLModel",
          "model_module_version": "1.5.0",
          "state": {
            "_dom_classes": [],
            "_model_module": "@jupyter-widgets/controls",
            "_model_module_version": "1.5.0",
            "_model_name": "HTMLModel",
            "_view_count": null,
            "_view_module": "@jupyter-widgets/controls",
            "_view_module_version": "1.5.0",
            "_view_name": "HTMLView",
            "description": "",
            "description_tooltip": null,
            "layout": "IPY_MODEL_385c7c55295241209a5ef8be4c0bbbc3",
            "placeholder": "​",
            "style": "IPY_MODEL_c551014ed3874147bbcfb63e46c6aeba",
            "value": " 268M/268M [00:03&lt;00:00, 77.3MB/s]"
          }
        },
        "51936a28e73c40d0a2e424fe207f6da8": {
          "model_module": "@jupyter-widgets/base",
          "model_name": "LayoutModel",
          "model_module_version": "1.2.0",
          "state": {
            "_model_module": "@jupyter-widgets/base",
            "_model_module_version": "1.2.0",
            "_model_name": "LayoutModel",
            "_view_count": null,
            "_view_module": "@jupyter-widgets/base",
            "_view_module_version": "1.2.0",
            "_view_name": "LayoutView",
            "align_content": null,
            "align_items": null,
            "align_self": null,
            "border": null,
            "bottom": null,
            "display": null,
            "flex": null,
            "flex_flow": null,
            "grid_area": null,
            "grid_auto_columns": null,
            "grid_auto_flow": null,
            "grid_auto_rows": null,
            "grid_column": null,
            "grid_gap": null,
            "grid_row": null,
            "grid_template_areas": null,
            "grid_template_columns": null,
            "grid_template_rows": null,
            "height": null,
            "justify_content": null,
            "justify_items": null,
            "left": null,
            "margin": null,
            "max_height": null,
            "max_width": null,
            "min_height": null,
            "min_width": null,
            "object_fit": null,
            "object_position": null,
            "order": null,
            "overflow": null,
            "overflow_x": null,
            "overflow_y": null,
            "padding": null,
            "right": null,
            "top": null,
            "visibility": null,
            "width": null
          }
        },
        "67878aa362d94fa38fcc531c3c1c49cb": {
          "model_module": "@jupyter-widgets/base",
          "model_name": "LayoutModel",
          "model_module_version": "1.2.0",
          "state": {
            "_model_module": "@jupyter-widgets/base",
            "_model_module_version": "1.2.0",
            "_model_name": "LayoutModel",
            "_view_count": null,
            "_view_module": "@jupyter-widgets/base",
            "_view_module_version": "1.2.0",
            "_view_name": "LayoutView",
            "align_content": null,
            "align_items": null,
            "align_self": null,
            "border": null,
            "bottom": null,
            "display": null,
            "flex": null,
            "flex_flow": null,
            "grid_area": null,
            "grid_auto_columns": null,
            "grid_auto_flow": null,
            "grid_auto_rows": null,
            "grid_column": null,
            "grid_gap": null,
            "grid_row": null,
            "grid_template_areas": null,
            "grid_template_columns": null,
            "grid_template_rows": null,
            "height": null,
            "justify_content": null,
            "justify_items": null,
            "left": null,
            "margin": null,
            "max_height": null,
            "max_width": null,
            "min_height": null,
            "min_width": null,
            "object_fit": null,
            "object_position": null,
            "order": null,
            "overflow": null,
            "overflow_x": null,
            "overflow_y": null,
            "padding": null,
            "right": null,
            "top": null,
            "visibility": null,
            "width": null
          }
        },
        "266407546226433baa8b08568c23a3d3": {
          "model_module": "@jupyter-widgets/controls",
          "model_name": "DescriptionStyleModel",
          "model_module_version": "1.5.0",
          "state": {
            "_model_module": "@jupyter-widgets/controls",
            "_model_module_version": "1.5.0",
            "_model_name": "DescriptionStyleModel",
            "_view_count": null,
            "_view_module": "@jupyter-widgets/base",
            "_view_module_version": "1.2.0",
            "_view_name": "StyleView",
            "description_width": ""
          }
        },
        "aad8a407e619479ba07edf0ff580833c": {
          "model_module": "@jupyter-widgets/base",
          "model_name": "LayoutModel",
          "model_module_version": "1.2.0",
          "state": {
            "_model_module": "@jupyter-widgets/base",
            "_model_module_version": "1.2.0",
            "_model_name": "LayoutModel",
            "_view_count": null,
            "_view_module": "@jupyter-widgets/base",
            "_view_module_version": "1.2.0",
            "_view_name": "LayoutView",
            "align_content": null,
            "align_items": null,
            "align_self": null,
            "border": null,
            "bottom": null,
            "display": null,
            "flex": null,
            "flex_flow": null,
            "grid_area": null,
            "grid_auto_columns": null,
            "grid_auto_flow": null,
            "grid_auto_rows": null,
            "grid_column": null,
            "grid_gap": null,
            "grid_row": null,
            "grid_template_areas": null,
            "grid_template_columns": null,
            "grid_template_rows": null,
            "height": null,
            "justify_content": null,
            "justify_items": null,
            "left": null,
            "margin": null,
            "max_height": null,
            "max_width": null,
            "min_height": null,
            "min_width": null,
            "object_fit": null,
            "object_position": null,
            "order": null,
            "overflow": null,
            "overflow_x": null,
            "overflow_y": null,
            "padding": null,
            "right": null,
            "top": null,
            "visibility": null,
            "width": null
          }
        },
        "afacc506b13c4462a66d6d50e89328cf": {
          "model_module": "@jupyter-widgets/controls",
          "model_name": "ProgressStyleModel",
          "model_module_version": "1.5.0",
          "state": {
            "_model_module": "@jupyter-widgets/controls",
            "_model_module_version": "1.5.0",
            "_model_name": "ProgressStyleModel",
            "_view_count": null,
            "_view_module": "@jupyter-widgets/base",
            "_view_module_version": "1.2.0",
            "_view_name": "StyleView",
            "bar_color": null,
            "description_width": ""
          }
        },
        "385c7c55295241209a5ef8be4c0bbbc3": {
          "model_module": "@jupyter-widgets/base",
          "model_name": "LayoutModel",
          "model_module_version": "1.2.0",
          "state": {
            "_model_module": "@jupyter-widgets/base",
            "_model_module_version": "1.2.0",
            "_model_name": "LayoutModel",
            "_view_count": null,
            "_view_module": "@jupyter-widgets/base",
            "_view_module_version": "1.2.0",
            "_view_name": "LayoutView",
            "align_content": null,
            "align_items": null,
            "align_self": null,
            "border": null,
            "bottom": null,
            "display": null,
            "flex": null,
            "flex_flow": null,
            "grid_area": null,
            "grid_auto_columns": null,
            "grid_auto_flow": null,
            "grid_auto_rows": null,
            "grid_column": null,
            "grid_gap": null,
            "grid_row": null,
            "grid_template_areas": null,
            "grid_template_columns": null,
            "grid_template_rows": null,
            "height": null,
            "justify_content": null,
            "justify_items": null,
            "left": null,
            "margin": null,
            "max_height": null,
            "max_width": null,
            "min_height": null,
            "min_width": null,
            "object_fit": null,
            "object_position": null,
            "order": null,
            "overflow": null,
            "overflow_x": null,
            "overflow_y": null,
            "padding": null,
            "right": null,
            "top": null,
            "visibility": null,
            "width": null
          }
        },
        "c551014ed3874147bbcfb63e46c6aeba": {
          "model_module": "@jupyter-widgets/controls",
          "model_name": "DescriptionStyleModel",
          "model_module_version": "1.5.0",
          "state": {
            "_model_module": "@jupyter-widgets/controls",
            "_model_module_version": "1.5.0",
            "_model_name": "DescriptionStyleModel",
            "_view_count": null,
            "_view_module": "@jupyter-widgets/base",
            "_view_module_version": "1.2.0",
            "_view_name": "StyleView",
            "description_width": ""
          }
        }
      }
    }
  },
  "cells": [
    {
      "cell_type": "markdown",
      "metadata": {
        "id": "view-in-github",
        "colab_type": "text"
      },
      "source": [
        "<a href=\"https://colab.research.google.com/github/ch2kings/AirKING/blob/master/unstructured_data_analysis.ipynb\" target=\"_parent\"><img src=\"https://colab.research.google.com/assets/colab-badge.svg\" alt=\"Open In Colab\"/></a>"
      ]
    },
    {
      "cell_type": "code",
      "execution_count": 10,
      "metadata": {
        "colab": {
          "base_uri": "https://localhost:8080/"
        },
        "id": "j_U5lBmrgVIb",
        "outputId": "7f86d7eb-cf9a-4500-ecda-b19546bc11a0"
      },
      "outputs": [
        {
          "output_type": "stream",
          "name": "stdout",
          "text": [
            "myself\n",
            "n't\n",
            "because\n",
            "six\n",
            "them\n",
            "re\n",
            "had\n",
            "fifty\n",
            "herein\n",
            "if\n"
          ]
        }
      ],
      "source": [
        "import spacy\n",
        "spacy_stopwords = spacy.lang.en.stop_words.STOP_WORDS\n",
        "len(spacy_stopwords)\n",
        "\n",
        "for stop_word in list(spacy_stopwords)[:10]:\n",
        "    print(stop_word)\n"
      ]
    },
    {
      "cell_type": "code",
      "source": [
        "import spacy\n",
        "nlp = spacy.load(\"en_core_web_sm\")"
      ],
      "metadata": {
        "id": "vqlj39I1grYy"
      },
      "execution_count": 2,
      "outputs": []
    },
    {
      "cell_type": "code",
      "source": [
        "introduction_doc = nlp( \"This tutorial is about Natural Language Processing in spaCy.\")\n",
        "type(introduction_doc)\n",
        "spacy.tokens.doc.Doc\n",
        "\n",
        "[token.text for token in introduction_doc]\n",
        "['This', 'tutorial', 'is', 'about', 'Natural', 'Language',\n",
        "'Processing', 'in', 'spaCy', '.']"
      ],
      "metadata": {
        "colab": {
          "base_uri": "https://localhost:8080/"
        },
        "id": "2W13o7IHhVIq",
        "outputId": "00855ffe-bf6a-4d74-d3e8-4d86a8297721"
      },
      "execution_count": 14,
      "outputs": [
        {
          "output_type": "execute_result",
          "data": {
            "text/plain": [
              "['This',\n",
              " 'tutorial',\n",
              " 'is',\n",
              " 'about',\n",
              " 'Natural',\n",
              " 'Language',\n",
              " 'Processing',\n",
              " 'in',\n",
              " 'spaCy',\n",
              " '.']"
            ]
          },
          "metadata": {},
          "execution_count": 14
        }
      ]
    },
    {
      "cell_type": "code",
      "source": [
        "about_text = (\n",
        "\"Gus Proto is a Python developer currently\"\n",
        "\" working for a London-based Fintech\"\n",
        "\" company. He is interested in learning\"\n",
        "\" Natural Language Processing.\"\n",
        ")\n",
        "about_doc = nlp(about_text)\n",
        "sentences = list(about_doc.sents)\n",
        "len(sentences)\n",
        "\n",
        "for sentence in sentences:\n",
        "       print(f\"{sentence[:10]}...\")"
      ],
      "metadata": {
        "colab": {
          "base_uri": "https://localhost:8080/"
        },
        "id": "e8gr4jvMh-vI",
        "outputId": "32465b41-f50b-458d-d657-b793364721e3"
      },
      "execution_count": 17,
      "outputs": [
        {
          "output_type": "stream",
          "name": "stdout",
          "text": [
            "Gus Proto is a Python developer currently working for a...\n",
            "He is interested in learning Natural Language Processing....\n"
          ]
        }
      ]
    },
    {
      "cell_type": "code",
      "source": [
        "import spacy\n",
        "nlp = spacy.load(\"en_core_web_sm\")\n",
        "about_text = (\n",
        "     \"Gus Proto is a Python developer currently\"\n",
        "     \" working for a London-based Fintech\"\n",
        "     \" company. He is interested in learning\"\n",
        "     \" Natural Language Processing.\"\n",
        " )\n",
        "about_doc = nlp(about_text)\n",
        "\n",
        "for token in about_doc:\n",
        "     print (token, token.idx)\n"
      ],
      "metadata": {
        "colab": {
          "base_uri": "https://localhost:8080/"
        },
        "id": "gNe71jpYi49x",
        "outputId": "12594427-64b0-46bc-be13-3e4d00977467"
      },
      "execution_count": 18,
      "outputs": [
        {
          "output_type": "stream",
          "name": "stdout",
          "text": [
            "Gus 0\n",
            "Proto 4\n",
            "is 10\n",
            "a 13\n",
            "Python 15\n",
            "developer 22\n",
            "currently 32\n",
            "working 42\n",
            "for 50\n",
            "a 54\n",
            "London 56\n",
            "- 62\n",
            "based 63\n",
            "Fintech 69\n",
            "company 77\n",
            ". 84\n",
            "He 86\n",
            "is 89\n",
            "interested 92\n",
            "in 103\n",
            "learning 106\n",
            "Natural 115\n",
            "Language 123\n",
            "Processing 132\n",
            ". 142\n"
          ]
        }
      ]
    },
    {
      "cell_type": "code",
      "source": [
        "from transformers import pipeline\n",
        "\n",
        "# Explicitly specify the model and revision\n",
        "model_name = \"distilbert-base-uncased-finetuned-sst-2-english\"\n",
        "revision = \"af0f99b\"\n",
        "sentiment_pipeline = pipeline(\"sentiment-analysis\", model=model_name, revision=revision)\n",
        "\n",
        "# Your text\n",
        "text = \"I love using ChatGPT for learning new things!\"\n",
        "\n",
        "# Run sentiment analysis\n",
        "result = sentiment_pipeline(text)\n",
        "print(result)\n"
      ],
      "metadata": {
        "colab": {
          "base_uri": "https://localhost:8080/",
          "height": 66,
          "referenced_widgets": [
            "2d71931caaec4df38295c4cf67f5ffff",
            "c913eeaedd1e4a7e9dcf1dd4a86765fb",
            "617e11467c014d8ca68a4d9eec9741d6",
            "574bdf43b5e9459194b6ba563ada520e",
            "51936a28e73c40d0a2e424fe207f6da8",
            "67878aa362d94fa38fcc531c3c1c49cb",
            "266407546226433baa8b08568c23a3d3",
            "aad8a407e619479ba07edf0ff580833c",
            "afacc506b13c4462a66d6d50e89328cf",
            "385c7c55295241209a5ef8be4c0bbbc3",
            "c551014ed3874147bbcfb63e46c6aeba"
          ]
        },
        "id": "LbciKsFtmnCn",
        "outputId": "0a85c730-dbde-44b2-ca0d-d5e2ba76e42e"
      },
      "execution_count": 25,
      "outputs": [
        {
          "output_type": "display_data",
          "data": {
            "text/plain": [
              "pytorch_model.bin:   0%|          | 0.00/268M [00:00<?, ?B/s]"
            ],
            "application/vnd.jupyter.widget-view+json": {
              "version_major": 2,
              "version_minor": 0,
              "model_id": "2d71931caaec4df38295c4cf67f5ffff"
            }
          },
          "metadata": {}
        },
        {
          "output_type": "stream",
          "name": "stdout",
          "text": [
            "[{'label': 'POSITIVE', 'score': 0.9981732368469238}]\n"
          ]
        }
      ]
    },
    {
      "cell_type": "code",
      "source": [
        "from transformers import pipeline\n",
        "import random\n",
        "\n",
        "# Initialize the sentiment analysis pipeline with a specific model\n",
        "model_name = \"distilbert-base-uncased-finetuned-sst-2-english\"\n",
        "sentiment_pipeline = pipeline(\"sentiment-analysis\", model=model_name)\n",
        "\n",
        "# Sample tweets to analyze\n",
        "tweets = [\n",
        "    \"What a beautiful day to go for a hike!\",\n",
        "    \"I can't believe how disappointing that movie was.\",\n",
        "    \"Just had the best pizza ever!\",\n",
        "    \"Stuck in traffic again. This is so frustrating!\",\n",
        "    \"Reading this book has been an amazing journey.\",\n",
        "    \"Why is customer service so terrible these days?\",\n",
        "    \"Had a wonderful time at the beach with family.\",\n",
        "    \"This new update is horrible. It ruined the app.\",\n",
        "    \"Feeling blessed and grateful for all the good in my life.\",\n",
        "    \"Can't wait for the weekend to start!\"\n",
        "]\n",
        "\n",
        "# Run sentiment analysis on the tweets\n",
        "results = sentiment_pipeline(tweets)\n",
        "\n",
        "# Print each tweet with its corresponding sentiment analysis result\n",
        "for tweet, result in zip(tweets, results):\n",
        "    print(f\"Tweet: {tweet}\\nSentiment: {result['label']}, Confidence: {result['score']:.2f}\\n\")\n"
      ],
      "metadata": {
        "colab": {
          "base_uri": "https://localhost:8080/"
        },
        "id": "CMjpHOcOnLpy",
        "outputId": "718be275-96fb-4af4-8ca7-e66e5738fd4f"
      },
      "execution_count": 28,
      "outputs": [
        {
          "output_type": "stream",
          "name": "stdout",
          "text": [
            "Tweet: What a beautiful day to go for a hike!\n",
            "Sentiment: POSITIVE, Confidence: 1.00\n",
            "\n",
            "Tweet: I can't believe how disappointing that movie was.\n",
            "Sentiment: NEGATIVE, Confidence: 1.00\n",
            "\n",
            "Tweet: Just had the best pizza ever!\n",
            "Sentiment: POSITIVE, Confidence: 1.00\n",
            "\n",
            "Tweet: Stuck in traffic again. This is so frustrating!\n",
            "Sentiment: NEGATIVE, Confidence: 1.00\n",
            "\n",
            "Tweet: Reading this book has been an amazing journey.\n",
            "Sentiment: POSITIVE, Confidence: 1.00\n",
            "\n",
            "Tweet: Why is customer service so terrible these days?\n",
            "Sentiment: NEGATIVE, Confidence: 1.00\n",
            "\n",
            "Tweet: Had a wonderful time at the beach with family.\n",
            "Sentiment: POSITIVE, Confidence: 1.00\n",
            "\n",
            "Tweet: This new update is horrible. It ruined the app.\n",
            "Sentiment: NEGATIVE, Confidence: 1.00\n",
            "\n",
            "Tweet: Feeling blessed and grateful for all the good in my life.\n",
            "Sentiment: POSITIVE, Confidence: 1.00\n",
            "\n",
            "Tweet: Can't wait for the weekend to start!\n",
            "Sentiment: POSITIVE, Confidence: 1.00\n",
            "\n"
          ]
        }
      ]
    }
  ]
}