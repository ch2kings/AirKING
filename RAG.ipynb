{
  "cells": [
    {
      "cell_type": "markdown",
      "metadata": {
        "id": "view-in-github",
        "colab_type": "text"
      },
      "source": [
        "<a href=\"https://colab.research.google.com/github/ch2kings/AirKING/blob/master/RAG.ipynb\" target=\"_parent\"><img src=\"https://colab.research.google.com/assets/colab-badge.svg\" alt=\"Open In Colab\"/></a>"
      ]
    },
    {
      "cell_type": "code",
      "source": [
        "import os\n",
        "import openai\n"
      ],
      "metadata": {
        "id": "Tu2VAVza43jA"
      },
      "execution_count": 20,
      "outputs": []
    },
    {
      "cell_type": "code",
      "source": [
        "pip install azure-core\n",
        "pip install azure-search"
      ],
      "metadata": {
        "id": "NGPidbGKQddc",
        "outputId": "4eaae788-8c57-40e9-c171-7a603cda0fab",
        "colab": {
          "base_uri": "https://localhost:8080/",
          "height": 140
        }
      },
      "execution_count": 2,
      "outputs": [
        {
          "output_type": "error",
          "ename": "SyntaxError",
          "evalue": "ignored",
          "traceback": [
            "\u001b[0;36m  File \u001b[0;32m\"<ipython-input-2-4b4e1b7aaf1b>\"\u001b[0;36m, line \u001b[0;32m1\u001b[0m\n\u001b[0;31m    pip install azure-core\u001b[0m\n\u001b[0m        ^\u001b[0m\n\u001b[0;31mSyntaxError\u001b[0m\u001b[0;31m:\u001b[0m invalid syntax\n"
          ]
        }
      ]
    },
    {
      "cell_type": "code",
      "source": [
        "pip install azure-search-documents\n"
      ],
      "metadata": {
        "id": "cwN6VUVp5hzN",
        "outputId": "dc26cfb0-9fcf-4bec-950b-274c50401c17",
        "colab": {
          "base_uri": "https://localhost:8080/",
          "height": 443
        }
      },
      "execution_count": 15,
      "outputs": [
        {
          "output_type": "stream",
          "name": "stdout",
          "text": [
            "Collecting azure-search-documents\n",
            "  Downloading azure_search_documents-11.3.0-py3-none-any.whl (244 kB)\n",
            "\u001b[?25l     \u001b[90m━━━━━━━━━━━━━━━━━━━━━━━━━━━━━━━━━━━━━━━━\u001b[0m \u001b[32m0.0/244.1 kB\u001b[0m \u001b[31m?\u001b[0m eta \u001b[36m-:--:--\u001b[0m\r\u001b[2K     \u001b[91m━━━━━━━━━━━━━━━\u001b[0m\u001b[90m╺\u001b[0m\u001b[90m━━━━━━━━━━━━━━━━━━━━━━━━\u001b[0m \u001b[32m92.2/244.1 kB\u001b[0m \u001b[31m2.6 MB/s\u001b[0m eta \u001b[36m0:00:01\u001b[0m\r\u001b[2K     \u001b[90m━━━━━━━━━━━━━━━━━━━━━━━━━━━━━━━━━━━━━━━\u001b[0m \u001b[32m244.1/244.1 kB\u001b[0m \u001b[31m4.2 MB/s\u001b[0m eta \u001b[36m0:00:00\u001b[0m\n",
            "\u001b[?25hRequirement already satisfied: azure-core<2.0.0,>=1.19.0 in /usr/local/lib/python3.10/dist-packages (from azure-search-documents) (1.29.4)\n",
            "Requirement already satisfied: msrest>=0.6.21 in /usr/local/lib/python3.10/dist-packages (from azure-search-documents) (0.7.1)\n",
            "Collecting azure-common~=1.1 (from azure-search-documents)\n",
            "  Downloading azure_common-1.1.28-py2.py3-none-any.whl (14 kB)\n",
            "Requirement already satisfied: typing-extensions>=3.7.4.3 in /usr/local/lib/python3.10/dist-packages (from azure-search-documents) (4.8.0)\n",
            "Requirement already satisfied: requests>=2.18.4 in /usr/local/lib/python3.10/dist-packages (from azure-core<2.0.0,>=1.19.0->azure-search-documents) (2.31.0)\n",
            "Requirement already satisfied: six>=1.11.0 in /usr/local/lib/python3.10/dist-packages (from azure-core<2.0.0,>=1.19.0->azure-search-documents) (1.16.0)\n",
            "Requirement already satisfied: certifi>=2017.4.17 in /usr/local/lib/python3.10/dist-packages (from msrest>=0.6.21->azure-search-documents) (2023.7.22)\n",
            "Requirement already satisfied: isodate>=0.6.0 in /usr/local/lib/python3.10/dist-packages (from msrest>=0.6.21->azure-search-documents) (0.6.1)\n",
            "Requirement already satisfied: requests-oauthlib>=0.5.0 in /usr/local/lib/python3.10/dist-packages (from msrest>=0.6.21->azure-search-documents) (1.3.1)\n",
            "Requirement already satisfied: charset-normalizer<4,>=2 in /usr/local/lib/python3.10/dist-packages (from requests>=2.18.4->azure-core<2.0.0,>=1.19.0->azure-search-documents) (3.2.0)\n",
            "Requirement already satisfied: idna<4,>=2.5 in /usr/local/lib/python3.10/dist-packages (from requests>=2.18.4->azure-core<2.0.0,>=1.19.0->azure-search-documents) (3.4)\n",
            "Requirement already satisfied: urllib3<3,>=1.21.1 in /usr/local/lib/python3.10/dist-packages (from requests>=2.18.4->azure-core<2.0.0,>=1.19.0->azure-search-documents) (2.0.5)\n",
            "Requirement already satisfied: oauthlib>=3.0.0 in /usr/local/lib/python3.10/dist-packages (from requests-oauthlib>=0.5.0->msrest>=0.6.21->azure-search-documents) (3.2.2)\n",
            "Installing collected packages: azure-common, azure-search-documents\n",
            "Successfully installed azure-common-1.1.28 azure-search-documents-11.3.0\n"
          ]
        },
        {
          "output_type": "display_data",
          "data": {
            "application/vnd.colab-display-data+json": {
              "pip_warning": {
                "packages": [
                  "azure"
                ]
              }
            }
          },
          "metadata": {}
        }
      ]
    },
    {
      "cell_type": "code",
      "source": [
        "from azure.core.credentials import AzureKeyCredential\n",
        "from azure.search.documents import SearchClient\n",
        "from azure.search.documents.indexes import SearchIndexClient\n",
        "from azure.search.documents.indexes.models import (\n",
        "    HnswParameters,\n",
        "    HnswVectorSearchAlgorithmConfiguration,\n",
        "    PrioritizedFields,\n",
        "    SearchableField,\n",
        "    SearchField,\n",
        "    SearchFieldDataType,\n",
        "    SearchIndex,\n",
        "    SemanticConfiguration,\n",
        "    SemanticField,\n",
        "    SemanticSettings,\n",
        "    SimpleField,\n",
        "    VectorSearch,\n",
        ")\n",
        "\n"
      ],
      "metadata": {
        "id": "g1dQbeEa5UuD",
        "outputId": "71107044-7ebf-46f9-87c8-5cfc93867f33",
        "colab": {
          "base_uri": "https://localhost:8080/",
          "height": 383
        }
      },
      "execution_count": 1,
      "outputs": [
        {
          "output_type": "error",
          "ename": "ImportError",
          "evalue": "ignored",
          "traceback": [
            "\u001b[0;31m---------------------------------------------------------------------------\u001b[0m",
            "\u001b[0;31mImportError\u001b[0m                               Traceback (most recent call last)",
            "\u001b[0;32m<ipython-input-1-c599d5210675>\u001b[0m in \u001b[0;36m<cell line: 4>\u001b[0;34m()\u001b[0m\n\u001b[1;32m      2\u001b[0m \u001b[0;32mfrom\u001b[0m \u001b[0mazure\u001b[0m\u001b[0;34m.\u001b[0m\u001b[0msearch\u001b[0m\u001b[0;34m.\u001b[0m\u001b[0mdocuments\u001b[0m \u001b[0;32mimport\u001b[0m \u001b[0mSearchClient\u001b[0m\u001b[0;34m\u001b[0m\u001b[0;34m\u001b[0m\u001b[0m\n\u001b[1;32m      3\u001b[0m \u001b[0;32mfrom\u001b[0m \u001b[0mazure\u001b[0m\u001b[0;34m.\u001b[0m\u001b[0msearch\u001b[0m\u001b[0;34m.\u001b[0m\u001b[0mdocuments\u001b[0m\u001b[0;34m.\u001b[0m\u001b[0mindexes\u001b[0m \u001b[0;32mimport\u001b[0m \u001b[0mSearchIndexClient\u001b[0m\u001b[0;34m\u001b[0m\u001b[0;34m\u001b[0m\u001b[0m\n\u001b[0;32m----> 4\u001b[0;31m from azure.search.documents.indexes.models import (\n\u001b[0m\u001b[1;32m      5\u001b[0m     \u001b[0mHnswParameters\u001b[0m\u001b[0;34m,\u001b[0m\u001b[0;34m\u001b[0m\u001b[0;34m\u001b[0m\u001b[0m\n\u001b[1;32m      6\u001b[0m     \u001b[0mHnswVectorSearchAlgorithmConfiguration\u001b[0m\u001b[0;34m,\u001b[0m\u001b[0;34m\u001b[0m\u001b[0;34m\u001b[0m\u001b[0m\n",
            "\u001b[0;31mImportError\u001b[0m: cannot import name 'HnswParameters' from 'azure.search.documents.indexes.models' (/usr/local/lib/python3.10/dist-packages/azure/search/documents/indexes/models/__init__.py)",
            "",
            "\u001b[0;31m---------------------------------------------------------------------------\u001b[0;32m\nNOTE: If your import is failing due to a missing package, you can\nmanually install dependencies using either !pip or !apt.\n\nTo view examples of installing some common dependencies, click the\n\"Open Examples\" button below.\n\u001b[0;31m---------------------------------------------------------------------------\u001b[0m\n"
          ],
          "errorDetails": {
            "actions": [
              {
                "action": "open_url",
                "actionText": "Open Examples",
                "url": "/notebooks/snippets/importing_libraries.ipynb"
              }
            ]
          }
        }
      ]
    },
    {
      "cell_type": "code",
      "source": [
        "from dotenv import load_dotenv\n",
        "from langchain.document_loaders import DirectoryLoader, UnstructuredMarkdownLoader\n",
        "from langchain.text_splitter import Language, RecursiveCharacterTextSplitter\n",
        "\n",
        "# Config for Azure Search.\n",
        "AZURE_SEARCH_ENDPOINT = os.getenv(\"AZURE_SEARCH_ENDPOINT\")\n",
        "AZURE_SEARCH_KEY = os.getenv(\"AZURE_SEARCH_KEY\")\n",
        "AZURE_SEARCH_INDEX_NAME = \"products-index-1\"\n",
        "\n",
        "# Config for Azure OpenAI.\n",
        "AZURE_OPENAI_API_TYPE = \"azure\"\n",
        "AZURE_OPENAI_API_BASE = os.getenv(\"AZURE_OPENAI_API_BASE\")\n",
        "AZURE_OPENAI_API_VERSION = \"2023-03-15-preview\"\n",
        "AZURE_OPENAI_API_KEY = os.getenv(\"AZURE_OPENAI_API_KEY\")\n",
        "AZURE_OPENAI_EMBEDDING_DEPLOYMENT = os.getenv(\"AZURE_OPENAI_EMBEDDING_DEPLOYMENT\")\n",
        "\n",
        "DATA_DIR = \"data/\""
      ],
      "metadata": {
        "id": "LKRWhoV55YiY"
      },
      "execution_count": null,
      "outputs": []
    },
    {
      "cell_type": "code",
      "source": [
        "\n",
        "\n",
        "def load_and_split_documents() -> list[dict]:\n",
        "    \"\"\"\n",
        "    Loads our documents from disc and split them into chunks.\n",
        "    Returns a list of dictionaries.\n",
        "    \"\"\"\n",
        "    # Load our data.\n",
        "    loader = DirectoryLoader(\n",
        "        DATA_DIR, loader_cls=UnstructuredMarkdownLoader, show_progress=True\n",
        "    )\n",
        "    docs = loader.load()\n",
        "\n",
        "    # Split our documents.\n",
        "    splitter = RecursiveCharacterTextSplitter.from_language(\n",
        "        language=Language.MARKDOWN, chunk_size=6000, chunk_overlap=100\n",
        "    )\n",
        "    split_docs = splitter.split_documents(docs)\n",
        "\n",
        "    # Convert our LangChain Documents to a list of dictionaries.\n",
        "    final_docs = []\n",
        "    for i, doc in enumerate(split_docs):\n",
        "        doc_dict = {\n",
        "            \"id\": str(i),\n",
        "            \"content\": doc.page_content,\n",
        "            \"sourcefile\": os.path.basename(doc.metadata[\"source\"]),\n",
        "        }\n",
        "        final_docs.append(doc_dict)\n",
        "\n",
        "    return final_docs\n",
        "\n",
        "\n",
        "def get_index(name: str) -> SearchIndex:\n",
        "    \"\"\"\n",
        "    Returns an Azure Cognitive Search index with the given name.\n",
        "    \"\"\"\n",
        "    # The fields we want to index. The \"embedding\" field is a vector field that will\n",
        "    # be used for vector search.\n",
        "    fields = [\n",
        "        SimpleField(name=\"id\", type=SearchFieldDataType.String, key=True),\n",
        "        SimpleField(name=\"sourcefile\", type=SearchFieldDataType.String),\n",
        "        SearchableField(name=\"content\", type=SearchFieldDataType.String),\n",
        "        SearchField(\n",
        "            name=\"embedding\",\n",
        "            type=SearchFieldDataType.Collection(SearchFieldDataType.Single),\n",
        "            # Size of the vector created by the text-embedding-ada-002 model.\n",
        "            vector_search_dimensions=1536,\n",
        "            vector_search_configuration=\"default\",\n",
        "        ),\n",
        "    ]\n",
        "\n",
        "    # The \"content\" field should be prioritized for semantic ranking.\n",
        "    semantic_settings = SemanticSettings(\n",
        "        configurations=[\n",
        "            SemanticConfiguration(\n",
        "                name=\"default\",\n",
        "                prioritized_fields=PrioritizedFields(\n",
        "                    title_field=None,\n",
        "                    prioritized_content_fields=[SemanticField(field_name=\"content\")],\n",
        "                ),\n",
        "            )\n",
        "        ]\n",
        "    )\n",
        "\n",
        "    # For vector search, we want to use the HNSW (Hierarchical Navigable Small World)\n",
        "    # algorithm (a type of approximate nearest neighbor search algorithm) with cosine\n",
        "    # distance.\n",
        "    vector_search = VectorSearch(\n",
        "        algorithm_configurations=[\n",
        "            HnswVectorSearchAlgorithmConfiguration(\n",
        "                name=\"default\",\n",
        "                kind=\"hnsw\",\n",
        "                parameters=HnswParameters(metric=\"cosine\"),\n",
        "            )\n",
        "        ]\n",
        "    )\n",
        "\n",
        "    # Create the search index.\n",
        "    index = SearchIndex(\n",
        "        name=name,\n",
        "        fields=fields,\n",
        "        semantic_settings=semantic_settings,\n",
        "        vector_search=vector_search,\n",
        "    )\n",
        "\n",
        "    return index\n",
        "\n",
        "\n",
        "def initialize(search_index_client: SearchIndexClient):\n",
        "    \"\"\"\n",
        "    Initializes an Azure Cognitive Search index with our custom data, using vector\n",
        "    search.\n",
        "    \"\"\"\n",
        "    # Load our data.\n",
        "    docs = load_and_split_documents()\n",
        "    for doc in docs:\n",
        "        doc[\"embedding\"] = openai.Embedding.create(\n",
        "            engine=AZURE_OPENAI_EMBEDDING_DEPLOYMENT, input=doc[\"content\"]\n",
        "        )[\"data\"][0][\"embedding\"]\n",
        "\n",
        "    # Create an Azure Cognitive Search index.\n",
        "    index = get_index(AZURE_SEARCH_INDEX_NAME)\n",
        "    search_index_client.create_or_update_index(index)\n",
        "\n",
        "    # Upload our data to the index.\n",
        "    search_client = SearchClient(\n",
        "        endpoint=AZURE_SEARCH_ENDPOINT,\n",
        "        index_name=AZURE_SEARCH_INDEX_NAME,\n",
        "        credential=AzureKeyCredential(AZURE_SEARCH_KEY),\n",
        "    )\n",
        "    search_client.upload_documents(docs)\n",
        "\n",
        "\n",
        "def delete(search_index_client: SearchIndexClient):\n",
        "    \"\"\"\n",
        "    Deletes the Azure Cognitive Search index.\n",
        "    \"\"\"\n",
        "    search_index_client.delete_index(AZURE_SEARCH_INDEX_NAME)\n",
        "\n",
        "\n",
        "def main():\n",
        "    load_dotenv()\n",
        "\n",
        "    openai.api_type = AZURE_OPENAI_API_TYPE\n",
        "    openai.api_base = AZURE_OPENAI_API_BASE\n",
        "    openai.api_version = AZURE_OPENAI_API_VERSION\n",
        "    openai.api_key = AZURE_OPENAI_API_KEY\n",
        "\n",
        "    search_index_client = SearchIndexClient(\n",
        "        AZURE_SEARCH_ENDPOINT, AzureKeyCredential(AZURE_SEARCH_KEY)\n",
        "    )\n",
        "\n",
        "    initialize(search_index_client)\n",
        "    # delete(search_index_client)\n",
        "\n",
        "\n",
        "if __name__ == \"__main__\":\n",
        "    main()"
      ],
      "metadata": {
        "id": "PmPz3MeV5ODF"
      },
      "execution_count": null,
      "outputs": []
    }
  ],
  "metadata": {
    "colab": {
      "name": "Welcome To Colaboratory",
      "provenance": [],
      "include_colab_link": true
    },
    "kernelspec": {
      "display_name": "Python 3",
      "name": "python3"
    }
  },
  "nbformat": 4,
  "nbformat_minor": 0
}