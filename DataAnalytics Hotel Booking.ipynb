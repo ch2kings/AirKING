{
  "cells": [
    {
      "cell_type": "markdown",
      "metadata": {
        "id": "view-in-github",
        "colab_type": "text"
      },
      "source": [
        "<a href=\"https://colab.research.google.com/github/ch2kings/AirKING/blob/master/DataAnalytics%20Hotel%20Booking.ipynb\" target=\"_parent\"><img src=\"https://colab.research.google.com/assets/colab-badge.svg\" alt=\"Open In Colab\"/></a>"
      ]
    },
    {
      "cell_type": "code",
      "source": [
        "import pandas as pd\n",
        "from scipy.stats import ttest_ind, chi2_contingency\n",
        "\n",
        "# Function to perform t-test for numerical variables\n",
        "def perform_t_test(df, column, target='booking_status'):\n",
        "    group1 = df[df[target] == 'Canceled'][column]\n",
        "    group2 = df[df[target] == 'Not_Canceled'][column]\n",
        "    t_stat, p_value = ttest_ind(group1, group2, nan_policy='omit', equal_var=False)  # Welch's t-test\n",
        "    return t_stat, p_value\n",
        "\n",
        "# Function to perform chi-square test for categorical variables\n",
        "def perform_chi2_test(df, column, target='booking_status'):\n",
        "    contingency_table = pd.crosstab(df[column], df[target])\n",
        "    chi2_stat, p_value, _, _ = chi2_contingency(contingency_table)\n",
        "    return chi2_stat, p_value\n",
        "\n",
        "# Load your dataset here\n",
        "# df = pd.read_csv('path_to_your_dataset.csv')\n",
        "\n",
        "# Replace with the path to your dataset\n",
        "df = pd.read_csv('/content/Dataset-Hotel+Booking+Cancellation+Prediction.csv')\n",
        "\n",
        "# Performing hypothesis testing for all variables\n",
        "results = {}\n",
        "significance_level = 0.05\n",
        "\n",
        "for column in df.columns:\n",
        "    if df[column].dtype in ['int64', 'float64'] and column != 'arrival_year':\n",
        "        t_stat, p_value = perform_t_test(df, column)\n",
        "        results[column] = {'Test': 't-test', 'Statistic': t_stat, 'p-value': p_value, 'Reject H0': p_value < significance_level}\n",
        "    elif df[column].dtype == 'object' and column != 'booking_status':\n",
        "        chi2_stat, p_value = perform_chi2_test(df, column)\n",
        "        results[column] = {'Test': 'chi-square', 'Statistic': chi2_stat, 'p-value': p_value, 'Reject H0': p_value < significance_level}\n",
        "\n",
        "# Convert results to DataFrame for better visualization\n",
        "hypothesis_test_results_df = pd.DataFrame(results).T\n",
        "print(hypothesis_test_results_df)\n",
        "\n"
      ],
      "metadata": {
        "id": "2X3Hn7aG43_Y",
        "outputId": "a524388f-f313-44fc-99d6-0f9b76a0ce93",
        "colab": {
          "base_uri": "https://localhost:8080/"
        }
      },
      "execution_count": 3,
      "outputs": [
        {
          "output_type": "stream",
          "name": "stdout",
          "text": [
            "                                            Test  Statistic   p-value  \\\n",
            "Booking_ID                            chi-square     9069.0  0.495063   \n",
            "no_of_adults                              t-test   8.899508       0.0   \n",
            "no_of_children                            t-test   2.663272  0.007761   \n",
            "no_of_weekend_nights                      t-test   5.394564       0.0   \n",
            "no_of_week_nights                         t-test   9.490767       0.0   \n",
            "type_of_meal_plan                     chi-square  69.170777       0.0   \n",
            "required_car_parking_space                t-test -10.884821       0.0   \n",
            "room_type_reserved                    chi-square   9.341148  0.155282   \n",
            "lead_time                                 t-test   40.66194       0.0   \n",
            "arrival_month                             t-test  -2.382849  0.017205   \n",
            "arrival_date                              t-test   0.796098  0.426007   \n",
            "market_segment_type                   chi-square  196.85951       0.0   \n",
            "repeated_guest                            t-test -14.886677       0.0   \n",
            "no_of_previous_cancellations              t-test  -4.401611  0.000011   \n",
            "no_of_previous_bookings_not_canceled      t-test  -7.876403       0.0   \n",
            "avg_price_per_room                        t-test  13.048861       0.0   \n",
            "no_of_special_requests                    t-test -28.149086       0.0   \n",
            "\n",
            "                                     Reject H0  \n",
            "Booking_ID                               False  \n",
            "no_of_adults                              True  \n",
            "no_of_children                            True  \n",
            "no_of_weekend_nights                      True  \n",
            "no_of_week_nights                         True  \n",
            "type_of_meal_plan                         True  \n",
            "required_car_parking_space                True  \n",
            "room_type_reserved                       False  \n",
            "lead_time                                 True  \n",
            "arrival_month                             True  \n",
            "arrival_date                             False  \n",
            "market_segment_type                       True  \n",
            "repeated_guest                            True  \n",
            "no_of_previous_cancellations              True  \n",
            "no_of_previous_bookings_not_canceled      True  \n",
            "avg_price_per_room                        True  \n",
            "no_of_special_requests                    True  \n"
          ]
        }
      ]
    }
  ],
  "metadata": {
    "colab": {
      "name": "Welcome To Colaboratory",
      "provenance": [],
      "include_colab_link": true
    },
    "kernelspec": {
      "display_name": "Python 3",
      "name": "python3"
    }
  },
  "nbformat": 4,
  "nbformat_minor": 0
}